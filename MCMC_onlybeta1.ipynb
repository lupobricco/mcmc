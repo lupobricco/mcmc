{
 "cells": [
  {
   "cell_type": "markdown",
   "metadata": {},
   "source": [
    "## MCMC"
   ]
  },
  {
   "cell_type": "markdown",
   "metadata": {},
   "source": [
    "## Import"
   ]
  },
  {
   "cell_type": "code",
   "execution_count": 15,
   "metadata": {},
   "outputs": [],
   "source": [
    "import numpy as np\n",
    "import pandas as pd\n",
    "import os\n",
    "import emcee\n",
    "import multiprocessing\n",
    "import scipy.integrate as integrate\n",
    "import math\n",
    "import matplotlib.pyplot as plt\n",
    "import corner\n",
    "plt.rcParams.update({'font.size': 12})\n",
    "from tqdm import tqdm\n",
    "import scipy.linalg as la"
   ]
  },
  {
   "cell_type": "markdown",
   "metadata": {},
   "source": [
    "## Constants"
   ]
  },
  {
   "cell_type": "code",
   "execution_count": 17,
   "metadata": {},
   "outputs": [],
   "source": [
    "# Define file paths\n",
    "base_directory = 'D:\\\\OneDrive\\\\Documents\\\\progetto_chiura\\\\mcmc\\\\save'\n",
    "covariance_directory = 'D:\\\\OneDrive\\\\Documents\\\\progetto_chiura\\\\mcmc\\\\save\\\\covariance_matrix'\n",
    "\n",
    "# Define constants\n",
    "G = 4.30091e-6\n",
    "\n",
    "# Define directories and variables\n",
    "star_number = 100\n",
    "anisotropy_type = 'iso'\n",
    "profile_type = 'core'\n",
    "space_type = 'cartesian'\n",
    "print_matrix = 0  # Set this to choose which covariance matrix to print\n",
    "\n",
    "nwalker = 50 #50\n",
    "ndim = 3 #this dfines the number of model parameters that required to be constrained.\n",
    "niter = 500 #500\n",
    "\n",
    "\n",
    "\n",
    "integrand1 = lambda r: r**2 * (rho0 / (((r / rs)**gamma) * (1 + r / rs)**(3 - gamma)))"
   ]
  },
  {
   "cell_type": "markdown",
   "metadata": {},
   "source": [
    "# Loaders"
   ]
  },
  {
   "cell_type": "code",
   "execution_count": 18,
   "metadata": {},
   "outputs": [],
   "source": [
    "#Create mockdata\n",
    "def load_data(file_path):\n",
    "    data = pd.read_csv(file_path, delim_whitespace=True, names=['x', 'y', 'z', 'vx', 'vy', 'vz'])\n",
    "\n",
    "    return data.to_numpy()  # Convert the DataFrame to a NumPy array, \n",
    "        \n",
    "#Create cov matrixes\n",
    "def load_covariance_matrix(star_index, anisotropy_type,star_number):\n",
    "\n",
    "\n",
    "    file_name = f'Cij_cartesian_stars_{star_index}_{profile_type}_beta_{anisotropy_type}.txt'\n",
    "    covariance_star_path = file_path = os.path.join(covariance_directory, f'star{star_number}')\n",
    "    file_path = os.path.join(covariance_star_path, file_name)\n",
    "    \n",
    "    matrix = np.loadtxt(file_path)\n",
    "    return matrix"
   ]
  },
  {
   "cell_type": "code",
   "execution_count": 19,
   "metadata": {},
   "outputs": [
    {
     "name": "stderr",
     "output_type": "stream",
     "text": [
      "C:\\Users\\andre\\AppData\\Local\\Temp\\ipykernel_19800\\3422306808.py:3: FutureWarning: The 'delim_whitespace' keyword in pd.read_csv is deprecated and will be removed in a future version. Use ``sep='\\s+'`` instead\n",
      "  data = pd.read_csv(file_path, delim_whitespace=True, names=['x', 'y', 'z', 'vx', 'vy', 'vz'])\n"
     ]
    }
   ],
   "source": [
    "#Load the mock data\n",
    "mock_data_file = f'Mockdata_{space_type}_{star_number}_stars_{profile_type}_beta_{anisotropy_type}.txt'\n",
    "mock_data_path = os.path.join(base_directory, mock_data_file)\n",
    "mock_data = load_data(mock_data_path) #array [][] che contiene i dati"
   ]
  },
  {
   "cell_type": "markdown",
   "metadata": {},
   "source": [
    "## Functions"
   ]
  },
  {
   "cell_type": "markdown",
   "metadata": {},
   "source": [
    "# Likelyhood functions"
   ]
  },
  {
   "cell_type": "code",
   "execution_count": 20,
   "metadata": {},
   "outputs": [],
   "source": [
    "# Calculate the sigma_vt^2 value for a given covariance matrix index\n",
    "def calculate_sigma_vt2(matrix_index, covariance_matrices): #matrix index gli passero poi star_index\n",
    "    \n",
    "    covariance_matrix = covariance_matrices[matrix_index]\n",
    "    \n",
    "    sigma_vtheta_vtheta = covariance_matrix[1, 1]\n",
    "    sigma_vphi_vphi = covariance_matrix[2, 2]\n",
    "    \n",
    "    sigma_vt2 = (sigma_vtheta_vtheta + sigma_vphi_vphi) / 2\n",
    "    return sigma_vt2\n",
    "\n",
    "#Create a 3x3 instrumental covariance matrix with specified sigma_v.\n",
    "def create_S_instrumental(sigma_v):\n",
    "\n",
    "    S_instrumental = np.zeros((3, 3))\n",
    "    np.fill_diagonal(S_instrumental, sigma_v**2)\n",
    "    return S_instrumental\n",
    "\n",
    "def calculate_mu_v(mock_data):\n",
    "    \n",
    "    avg_vx = np.mean(mock_data[3])\n",
    "    avg_vy = np.mean(mock_data[4])\n",
    "    avg_vz = np.mean(mock_data[5])\n",
    "    \n",
    "    mu_v = np.array([avg_vx, avg_vy, avg_vz])\n",
    "\n",
    "    return mu_v\n",
    "\n",
    "\n",
    "def integrand(r, rho0, rs, gamma):\n",
    "        return  r**2 * (rho0 / (((r / rs)**gamma) * (1 + r / rs)**(3 - gamma)))\n",
    "\n",
    "\n",
    "def DM_profile_model(mock_data, params, star_index):\n",
    "    # Unpack the parameters\n",
    "    rho0, rs, gamma = params\n",
    "\n",
    "    b = np.sqrt(mock_data[star_index][0]**2 + mock_data[star_index][1]**2 + mock_data[star_index][2]**2)\n",
    "\n",
    "    integral, _ = integrate.quad(integrand, 0, b, args = (10**rho0, 10**rs, gamma))\n",
    "\n",
    "    V_squared = (4 * np.pi * G / b) * abs(integral)\n",
    "        \n",
    "    V_r = np.sqrt(V_squared)\n",
    "    \n",
    "    return V_r\n",
    "\n",
    "\n",
    "\n",
    "def p_v_given_r(star_index, mu_v, S_instrumental, covariance_matrix, ndim, mock_data, params):\n",
    "\n",
    "    V_r = DM_profile_model(mock_data, params, star_index) #eh ma sta velocità è un numero non un vettore\n",
    "    V_r_vett = [V_r, V_r, V_r]\n",
    "    \n",
    "    # Calculate relative velocity vector\n",
    "    # v_relative = V_r - np.linalg.norm(mu_v)\n",
    "    v_relative = V_r_vett - mu_v\n",
    "\n",
    "    # Calculate S_total which is the sum of S_instrumental and covariance_matrix\n",
    "    S_total = S_instrumental + covariance_matrix\n",
    "\n",
    "    log_numerator = (-0.5 * np.dot(np.dot(np.transpose(v_relative), np.linalg.inv(S_total)), v_relative))\n",
    "    log_denominator = 0.5*np.log10(((2 * np.pi)**ndim)*(np.linalg.det(S_total)))\n",
    "    return log_numerator - log_denominator\n",
    "\n",
    "\n",
    "\n",
    "#Likelyhood\n",
    "def log_likelyhood(params):\n",
    "    L_params = 0\n",
    "\n",
    "    for star_index in range(star_number):\n",
    "    \n",
    "        covariance_matrix = covariance_matrices[star_index]\n",
    "        position_cartesian = mock_data[star_index][:3]\n",
    "        #v_cartesian = mock_data[star_index][3:]\n",
    "\n",
    "        prob_given_r = p_v_given_r(star_index, mu_v, S_instrumental, covariance_matrix, ndim, mock_data, params)\n",
    "\n",
    "        L_params += prob_given_r\n",
    "    if not math.isnan(L_params):\n",
    "        return -np.inf\n",
    "    return L_params"
   ]
  },
  {
   "cell_type": "markdown",
   "metadata": {},
   "source": [
    "## Main"
   ]
  },
  {
   "cell_type": "code",
   "execution_count": 21,
   "metadata": {},
   "outputs": [
    {
     "name": "stdout",
     "output_type": "stream",
     "text": [
      "First row of mock data:\n",
      "[ 0.23216535 -0.02628695 -0.18520756  1.05255798 -6.33599615 -0.69663847]\n"
     ]
    }
   ],
   "source": [
    "# Print the first row of mock data\n",
    "print(\"First row of mock data:\")\n",
    "print(mock_data[0])"
   ]
  },
  {
   "cell_type": "code",
   "execution_count": 22,
   "metadata": {},
   "outputs": [],
   "source": [
    "# Load covariance matrices\n",
    "#covariance_directory = os.path.join(base_directory, f'covariance_matrix\\\\star{star_number}')\n",
    "covariance_matrices = []\n",
    "\n",
    "for star_index in range(star_number):\n",
    "    matrix = load_covariance_matrix(star_index, anisotropy_type, star_number)\n",
    "    covariance_matrices.append(matrix) #array di matrici di covarianza"
   ]
  },
  {
   "cell_type": "code",
   "execution_count": 23,
   "metadata": {},
   "outputs": [
    {
     "name": "stdout",
     "output_type": "stream",
     "text": [
      "[[67.496296  0.        0.      ]\n",
      " [ 0.       67.496296  0.      ]\n",
      " [ 0.        0.       67.496296]]\n"
     ]
    }
   ],
   "source": [
    "# Print the first covariance matrix\n",
    "print(covariance_matrices[0])"
   ]
  },
  {
   "cell_type": "code",
   "execution_count": 24,
   "metadata": {},
   "outputs": [],
   "source": [
    "# Params definition\n",
    "rho0 = 2.284\n",
    "rs = -0.824\n",
    "gamma = 0\n",
    "#beta = 0\n",
    "\n",
    "\n",
    "params = [rho0, rs, gamma]\n",
    "\n",
    "sigma_v = 0  # Set this to 0, 1, or 5 as needed\n",
    "\n",
    "mu_v = calculate_mu_v(mock_data)\n",
    "S_instrumental = create_S_instrumental(sigma_v)\n",
    "\n",
    "#p0 = np.random.uniform(low=[-3, -2, -3, -10], high=[5, 3, 3, 1], size=(nwalker, ndim)) #vettore con inizializzazione randomica dei parametri con beta\n",
    "p0 = np.random.uniform(low=[-3, -2, -3], high=[5, 3, 3], size=(nwalker, ndim)) #vettore con inizializzazione randomica dei parametri"
   ]
  },
  {
   "cell_type": "code",
   "execution_count": 25,
   "metadata": {},
   "outputs": [
    {
     "data": {
      "text/plain": [
       "[2.284, -0.824, 0]"
      ]
     },
     "execution_count": 25,
     "metadata": {},
     "output_type": "execute_result"
    }
   ],
   "source": [
    "params"
   ]
  },
  {
   "cell_type": "code",
   "execution_count": 26,
   "metadata": {},
   "outputs": [
    {
     "data": {
      "text/plain": [
       "array([[ 4.95000486e+00, -1.99845741e+00,  4.13054977e-01],\n",
       "       [ 4.05945921e+00,  1.22765623e+00,  1.94838812e+00],\n",
       "       [ 2.97730432e+00, -4.57722564e-01,  9.37616012e-01],\n",
       "       [ 1.03881402e-01, -1.69759968e+00, -2.95274067e+00],\n",
       "       [-1.81163590e+00,  3.73661665e-01,  2.21664251e+00],\n",
       "       [ 9.60905078e-03,  1.52816525e+00, -1.95615914e+00],\n",
       "       [ 4.73328214e+00,  2.57070313e+00, -2.08540460e+00],\n",
       "       [ 1.11567439e+00,  8.35288545e-01,  4.37308649e-01],\n",
       "       [ 4.68922249e+00,  6.44896635e-01,  9.70345831e-01],\n",
       "       [ 3.54305997e+00, -1.35933694e+00,  1.12176401e+00],\n",
       "       [ 3.53469495e+00,  2.57840587e-01,  7.20157467e-01],\n",
       "       [ 4.84413236e+00, -1.34376011e+00,  2.43378196e+00],\n",
       "       [ 7.73397513e-01,  2.01601076e+00, -2.97835832e-01],\n",
       "       [ 6.09716321e-01,  1.92403416e+00, -2.16073713e-01],\n",
       "       [ 3.62733316e+00, -8.34447141e-01, -2.78104251e+00],\n",
       "       [ 6.09307442e-01,  4.62709655e-01,  1.43868436e+00],\n",
       "       [ 4.41752157e+00,  5.47893051e-01,  7.50730090e-02],\n",
       "       [-1.97202516e-01,  2.14652767e+00, -9.66817961e-03],\n",
       "       [ 4.19450601e+00, -1.10136326e+00, -4.48852490e-01],\n",
       "       [-1.69360744e+00,  2.08259165e+00, -2.84383618e-01],\n",
       "       [ 8.19928888e-02,  2.24983184e+00, -2.00761549e+00],\n",
       "       [ 1.68602853e+00,  6.61291339e-01, -1.77534037e+00],\n",
       "       [ 3.93237460e+00,  2.72610044e-01, -2.34400224e+00],\n",
       "       [ 4.92143215e+00,  2.83343625e+00,  2.44191559e+00],\n",
       "       [ 2.69444987e+00, -1.25344392e-01, -1.75168652e+00],\n",
       "       [ 3.88196695e+00,  1.35639732e-02,  2.07534291e+00],\n",
       "       [-2.58425333e-01,  2.19004596e+00,  7.34040109e-01],\n",
       "       [-1.69208110e+00,  1.75343916e+00, -3.95365991e-01],\n",
       "       [ 8.86272789e-01,  2.29200948e+00,  2.69188831e+00],\n",
       "       [-8.03431306e-01, -1.66011522e+00, -2.86463147e+00],\n",
       "       [ 3.52729176e+00,  3.98891619e-01, -1.25336896e+00],\n",
       "       [ 6.87456933e-02,  1.75175196e-01, -1.28015442e+00],\n",
       "       [-2.34542001e-01,  5.94090458e-01, -2.84938374e-01],\n",
       "       [ 1.05043258e+00,  1.40348575e+00, -1.83872124e+00],\n",
       "       [-3.16403657e-01,  5.53272101e-01,  1.77000235e+00],\n",
       "       [-2.84258040e+00,  9.92780247e-01,  2.62971173e+00],\n",
       "       [-2.73254917e+00, -1.91953419e+00, -2.82796029e+00],\n",
       "       [ 3.60237464e+00,  1.68291595e-01, -2.63822799e+00],\n",
       "       [-7.09322137e-01,  2.16814748e+00,  2.95913184e+00],\n",
       "       [-1.98338196e+00, -1.44967821e+00,  2.90313590e+00],\n",
       "       [ 1.42934947e+00,  5.35638866e-01,  2.98102312e+00],\n",
       "       [-1.06586664e+00,  2.56651396e+00, -2.66972206e+00],\n",
       "       [-1.77175811e+00, -2.84648497e-01,  2.86479617e+00],\n",
       "       [ 3.04293086e+00,  7.31840446e-01, -2.89600337e+00],\n",
       "       [ 1.04304278e+00, -7.80625658e-02,  1.47075187e+00],\n",
       "       [ 9.10164085e-01, -1.72248262e+00, -2.03896486e+00],\n",
       "       [-2.14018936e+00,  6.43662323e-01,  1.71234564e+00],\n",
       "       [ 4.82756787e+00,  7.43217116e-01, -1.56753712e+00],\n",
       "       [-1.73975981e-03,  6.05255804e-01,  2.32414853e+00],\n",
       "       [-1.81413574e+00, -1.14976159e+00, -4.04780805e-01]])"
      ]
     },
     "execution_count": 26,
     "metadata": {},
     "output_type": "execute_result"
    }
   ],
   "source": [
    "p0"
   ]
  },
  {
   "cell_type": "code",
   "execution_count": 27,
   "metadata": {},
   "outputs": [],
   "source": [
    "multiprocessing.set_start_method('spawn', force=True)\n",
    "\n",
    "\n",
    "with multiprocessing.Pool() as pool:\n",
    "    sampler = emcee.EnsembleSampler(nwalker, ndim, log_likelyhood, pool=pool)\n",
    "    sampler.run_mcmc(p0, niter, progress = True)"
   ]
  },
  {
   "cell_type": "code",
   "execution_count": null,
   "metadata": {},
   "outputs": [
    {
     "data": {
      "text/plain": [
       "array([[-0.58514413, -1.80627026, -1.63939476],\n",
       "       [ 0.16034372,  1.36280463, -2.9962559 ],\n",
       "       [-2.55269144,  1.266652  , -2.51876003],\n",
       "       ...,\n",
       "       [-1.52040309, -1.21105891,  1.0369766 ],\n",
       "       [-0.06284683,  0.45733106, -1.1989928 ],\n",
       "       [ 3.33927858, -1.62341069, -0.89135119]])"
      ]
     },
     "execution_count": 18,
     "metadata": {},
     "output_type": "execute_result"
    }
   ],
   "source": [
    "samples=sampler.get_chain(discard=10,thin=2,flat=True)\n",
    "samples\n",
    "# 2 // -0.8 // 0.2"
   ]
  },
  {
   "cell_type": "code",
   "execution_count": null,
   "metadata": {},
   "outputs": [
    {
     "data": {
      "text/plain": [
       "(12250, 3)"
      ]
     },
     "execution_count": 22,
     "metadata": {},
     "output_type": "execute_result"
    }
   ],
   "source": [
    "samples.shape"
   ]
  },
  {
   "cell_type": "code",
   "execution_count": null,
   "metadata": {},
   "outputs": [
    {
     "ename": "ValueError",
     "evalue": "too many values to unpack (expected 2)",
     "output_type": "error",
     "traceback": [
      "\u001b[1;31m---------------------------------------------------------------------------\u001b[0m",
      "\u001b[1;31mValueError\u001b[0m                                Traceback (most recent call last)",
      "Cell \u001b[1;32mIn[20], line 3\u001b[0m\n\u001b[0;32m      1\u001b[0m samples1 \u001b[38;5;241m=\u001b[39m sampler\u001b[38;5;241m.\u001b[39mchain\u001b[38;5;241m.\u001b[39mreshape((\u001b[38;5;241m-\u001b[39m\u001b[38;5;241m1\u001b[39m, ndim))\n\u001b[1;32m----> 3\u001b[0m om_mc, H0_mc \u001b[38;5;241m=\u001b[39m \u001b[38;5;28mmap\u001b[39m(\u001b[38;5;28;01mlambda\u001b[39;00m v: (v[\u001b[38;5;241m1\u001b[39m], v[\u001b[38;5;241m2\u001b[39m]\u001b[38;5;241m-\u001b[39mv[\u001b[38;5;241m1\u001b[39m], v[\u001b[38;5;241m1\u001b[39m]\u001b[38;5;241m-\u001b[39mv[\u001b[38;5;241m0\u001b[39m]), \u001b[38;5;28mzip\u001b[39m(\u001b[38;5;241m*\u001b[39mnp\u001b[38;5;241m.\u001b[39mpercentile(samples1, [\u001b[38;5;241m16\u001b[39m, \u001b[38;5;241m50\u001b[39m, \u001b[38;5;241m84\u001b[39m], axis\u001b[38;5;241m=\u001b[39m\u001b[38;5;241m0\u001b[39m)))\n\u001b[0;32m      5\u001b[0m \u001b[38;5;66;03m#Plotting the traces\u001b[39;00m\n\u001b[0;32m      6\u001b[0m thin, discard \u001b[38;5;241m=\u001b[39m \u001b[38;5;241m2\u001b[39m, \u001b[38;5;241m10\u001b[39m\n",
      "\u001b[1;31mValueError\u001b[0m: too many values to unpack (expected 2)"
     ]
    }
   ],
   "source": [
    "samples1 = sampler.chain.reshape((-1, ndim))\n",
    "\n",
    "om_mc, H0_mc = map(lambda v: (v[1], v[2]-v[1], v[1]-v[0]), zip(*np.percentile(samples1, [16, 50, 84], axis=0)))\n",
    "\n",
    "#Plotting the traces\n",
    "thin, discard = 2, 10\n",
    "fig, axes = plt.subplots(ndim, figsize=(18,9), sharex=True)\n",
    "\n",
    "#plt.figure(figsize=(18,9))\n",
    "\n",
    "for i in range(ndim):\n",
    "    ax = axes[i]\n",
    "    #plt.subplot(2,ndim//2,i+1) #this is for making two rows.\n",
    "    ax.plot(sampler.get_chain()[thin:,discard:,i], color='black',alpha=0.1, lw=0.15)\n",
    "    ax.set_xlim(0, len(sampler.get_chain()))\n",
    "    ax.set_ylabel(params[i])\n",
    "\n",
    "axes[-1].set_xlabel(\"step number\");\n",
    "plt.tight_layout ()\n",
    "\n",
    "fig=corner.corner(samples,labels=params,show_titles=True,color='green',Truths=[om_mc,H0_mc],smooth=2.,Levels=[0.68,0.95],plot_density=True,plot_datapoints=False)\n",
    "\n",
    "fig.savefig(\"corner_plot1.pdf\")"
   ]
  },
  {
   "cell_type": "code",
   "execution_count": null,
   "metadata": {},
   "outputs": [],
   "source": []
  },
  {
   "cell_type": "code",
   "execution_count": null,
   "metadata": {},
   "outputs": [],
   "source": []
  },
  {
   "cell_type": "code",
   "execution_count": null,
   "metadata": {},
   "outputs": [],
   "source": []
  },
  {
   "cell_type": "code",
   "execution_count": null,
   "metadata": {},
   "outputs": [],
   "source": []
  }
 ],
 "metadata": {
  "kernelspec": {
   "display_name": "base",
   "language": "python",
   "name": "python3"
  },
  "language_info": {
   "codemirror_mode": {
    "name": "ipython",
    "version": 3
   },
   "file_extension": ".py",
   "mimetype": "text/x-python",
   "name": "python",
   "nbconvert_exporter": "python",
   "pygments_lexer": "ipython3",
   "version": "3.11.5"
  }
 },
 "nbformat": 4,
 "nbformat_minor": 2
}
