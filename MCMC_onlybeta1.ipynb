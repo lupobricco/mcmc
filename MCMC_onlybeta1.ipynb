{
 "cells": [
  {
   "cell_type": "markdown",
   "metadata": {},
   "source": [
    "## MCMC"
   ]
  },
  {
   "cell_type": "markdown",
   "metadata": {},
   "source": [
    "## Import"
   ]
  },
  {
   "cell_type": "code",
   "execution_count": 5,
   "metadata": {},
   "outputs": [],
   "source": [
    "import numpy as np\n",
    "import pandas as pd\n",
    "import os\n",
    "import emcee\n",
    "from multiprocessing import Pool, cpu_count\n",
    "import scipy.integrate as integrate\n",
    "import math"
   ]
  },
  {
   "cell_type": "code",
   "execution_count": 6,
   "metadata": {},
   "outputs": [],
   "source": [
    "import os\n",
    "import numpy as np\n",
    "import matplotlib.pyplot as plt\n",
    "import corner\n",
    "from scipy import integrate \n",
    "from matplotlib import rc\n",
    "plt.rcParams.update({'font.size': 12})\n",
    "from multiprocessing import Pool, cpu_count\n",
    "import emcee\n",
    "from tqdm import tqdm\n",
    "import scipy.linalg as la\n",
    "import arviz as az"
   ]
  },
  {
   "cell_type": "markdown",
   "metadata": {},
   "source": [
    "## Constants"
   ]
  },
  {
   "cell_type": "code",
   "execution_count": 7,
   "metadata": {},
   "outputs": [],
   "source": [
    "# Define file paths\n",
    "base_directory = 'D:\\\\OneDrive\\\\Documents\\\\progetto_chiura\\\\mcmc\\\\save'\n",
    "covariance_directory = 'D:\\\\OneDrive\\\\Documents\\\\progetto_chiura\\\\mcmc\\\\save\\\\covariance_matrix'\n",
    "\n",
    "# Define constants\n",
    "G = 4.30091e-6\n",
    "\n",
    "# Define directories and variables\n",
    "star_number = 100\n",
    "anisotropy_type = 'iso'\n",
    "profile_type = 'core'\n",
    "space_type = 'cartesian'\n",
    "print_matrix = 0  # Set this to choose which covariance matrix to print\n",
    "\n",
    "nwalker = 50 #50\n",
    "ndim = 3 #this dfines the number of model parameters that required to be constrained.\n",
    "niter = 500 #500\n",
    "\n",
    "\n",
    "\n",
    "integrand1 = lambda r: r**2 * (rho0 / (((r / rs)**gamma) * (1 + r / rs)**(3 - gamma)))"
   ]
  },
  {
   "cell_type": "markdown",
   "metadata": {},
   "source": [
    "# Loaders"
   ]
  },
  {
   "cell_type": "code",
   "execution_count": 8,
   "metadata": {},
   "outputs": [],
   "source": [
    "#Create mockdata\n",
    "def load_data(file_path):\n",
    "    data = pd.read_csv(file_path, delim_whitespace=True, names=['x', 'y', 'z', 'vx', 'vy', 'vz'])\n",
    "\n",
    "    return data.to_numpy()  # Convert the DataFrame to a NumPy array, \n",
    "        \n",
    "#Create cov matrixes\n",
    "def load_covariance_matrix(star_index, anisotropy_type,star_number):\n",
    "\n",
    "\n",
    "    file_name = f'Cij_cartesian_stars_{star_index}_{profile_type}_beta_{anisotropy_type}.txt'\n",
    "    covariance_star_path = file_path = os.path.join(covariance_directory, f'star{star_number}')\n",
    "    file_path = os.path.join(covariance_star_path, file_name)\n",
    "    \n",
    "    matrix = np.loadtxt(file_path)\n",
    "    return matrix"
   ]
  },
  {
   "cell_type": "code",
   "execution_count": 9,
   "metadata": {},
   "outputs": [
    {
     "name": "stderr",
     "output_type": "stream",
     "text": [
      "C:\\Users\\andre\\AppData\\Local\\Temp\\ipykernel_1544\\3422306808.py:3: FutureWarning: The 'delim_whitespace' keyword in pd.read_csv is deprecated and will be removed in a future version. Use ``sep='\\s+'`` instead\n",
      "  data = pd.read_csv(file_path, delim_whitespace=True, names=['x', 'y', 'z', 'vx', 'vy', 'vz'])\n"
     ]
    }
   ],
   "source": [
    "#Load the mock data\n",
    "mock_data_file = f'Mockdata_{space_type}_{star_number}_stars_{profile_type}_beta_{anisotropy_type}.txt'\n",
    "mock_data_path = os.path.join(base_directory, mock_data_file)\n",
    "mock_data = load_data(mock_data_path) #array [][] che contiene i dati"
   ]
  },
  {
   "cell_type": "markdown",
   "metadata": {},
   "source": [
    "## Functions"
   ]
  },
  {
   "cell_type": "markdown",
   "metadata": {},
   "source": [
    "# Likelyhood functions"
   ]
  },
  {
   "cell_type": "code",
   "execution_count": 10,
   "metadata": {},
   "outputs": [],
   "source": [
    "# Calculate the sigma_vt^2 value for a given covariance matrix index\n",
    "def calculate_sigma_vt2(matrix_index, covariance_matrices): #matrix index gli passero poi star_index\n",
    "    \n",
    "    covariance_matrix = covariance_matrices[matrix_index]\n",
    "    \n",
    "    sigma_vtheta_vtheta = covariance_matrix[1, 1]\n",
    "    sigma_vphi_vphi = covariance_matrix[2, 2]\n",
    "    \n",
    "    sigma_vt2 = (sigma_vtheta_vtheta + sigma_vphi_vphi) / 2\n",
    "    return sigma_vt2\n",
    "\n",
    "#Create a 3x3 instrumental covariance matrix with specified sigma_v.\n",
    "def create_S_instrumental(sigma_v):\n",
    "\n",
    "    S_instrumental = np.zeros((3, 3))\n",
    "    np.fill_diagonal(S_instrumental, sigma_v**2)\n",
    "    return S_instrumental\n",
    "\n",
    "def calculate_mu_v(mock_data):\n",
    "    \n",
    "    avg_vx = np.mean(mock_data[3])\n",
    "    avg_vy = np.mean(mock_data[4])\n",
    "    avg_vz = np.mean(mock_data[5])\n",
    "    \n",
    "    mu_v = np.array([avg_vx, avg_vy, avg_vz])\n",
    "\n",
    "    return mu_v\n",
    "\n",
    "\n",
    "def integrand(r, rho0, rs, gamma):\n",
    "        return  r**2 * (rho0 / (((r / rs)**gamma) * (1 + r / rs)**(3 - gamma)))\n",
    "\n",
    "\n",
    "def DM_profile_model(mock_data, params, star_index):\n",
    "    # Unpack the parameters\n",
    "    rho0, rs, gamma = params\n",
    "\n",
    "    b = np.sqrt(mock_data[star_index][0]**2 + mock_data[star_index][1]**2 + mock_data[star_index][2]**2)\n",
    "\n",
    "    integral, _ = integrate.quad(integrand, 0, b, args = (10**rho0, 10**rs, gamma))\n",
    "\n",
    "    V_squared = (4 * np.pi * G / b) * abs(integral)\n",
    "        \n",
    "    V_r = np.sqrt(V_squared)\n",
    "    \n",
    "    return V_r\n",
    "\n",
    "\n",
    "\n",
    "def p_v_given_r(star_index, mu_v, S_instrumental, covariance_matrix, ndim, mock_data, params):\n",
    "\n",
    "    V_r = DM_profile_model(mock_data, params, star_index) #eh ma sta velocità è un numero non un vettore\n",
    "    V_r_vett = [V_r, V_r, V_r]\n",
    "    \n",
    "    # Calculate relative velocity vector\n",
    "    # v_relative = V_r - np.linalg.norm(mu_v)\n",
    "    v_relative = V_r_vett - mu_v\n",
    "\n",
    "    # Calculate S_total which is the sum of S_instrumental and covariance_matrix\n",
    "    S_total = S_instrumental + covariance_matrix\n",
    "\n",
    "    log_numerator = (-0.5 * np.dot(np.dot(np.transpose(v_relative), np.linalg.inv(S_total)), v_relative))\n",
    "    log_denominator = 0.5*np.log10(((2 * np.pi)**ndim)*(np.linalg.det(S_total)))\n",
    "    return log_numerator - log_denominator\n",
    "\n",
    "\n",
    "\n",
    "#Likelyhood\n",
    "def log_likelyhood(params):\n",
    "    L_params = 0\n",
    "\n",
    "    for star_index in range(star_number):\n",
    "    \n",
    "        covariance_matrix = covariance_matrices[star_index]\n",
    "        position_cartesian = mock_data[star_index][:3]\n",
    "        #v_cartesian = mock_data[star_index][3:]\n",
    "\n",
    "        prob_given_r = p_v_given_r(star_index, mu_v, S_instrumental, covariance_matrix, ndim, mock_data, params)\n",
    "\n",
    "        L_params += prob_given_r\n",
    "    if not math.isnan(L_params):\n",
    "        return -np.inf\n",
    "    return L_params"
   ]
  },
  {
   "cell_type": "markdown",
   "metadata": {},
   "source": [
    "## Main"
   ]
  },
  {
   "cell_type": "code",
   "execution_count": 11,
   "metadata": {},
   "outputs": [
    {
     "name": "stdout",
     "output_type": "stream",
     "text": [
      "First row of mock data:\n",
      "[ 0.23216535 -0.02628695 -0.18520756  1.05255798 -6.33599615 -0.69663847]\n"
     ]
    }
   ],
   "source": [
    "# Print the first row of mock data\n",
    "print(\"First row of mock data:\")\n",
    "print(mock_data[0])"
   ]
  },
  {
   "cell_type": "code",
   "execution_count": 12,
   "metadata": {},
   "outputs": [],
   "source": [
    "# Load covariance matrices\n",
    "#covariance_directory = os.path.join(base_directory, f'covariance_matrix\\\\star{star_number}')\n",
    "covariance_matrices = []\n",
    "\n",
    "for star_index in range(star_number):\n",
    "    matrix = load_covariance_matrix(star_index, anisotropy_type, star_number)\n",
    "    covariance_matrices.append(matrix) #array di matrici di covarianza"
   ]
  },
  {
   "cell_type": "code",
   "execution_count": 13,
   "metadata": {},
   "outputs": [
    {
     "name": "stdout",
     "output_type": "stream",
     "text": [
      "[[67.496296  0.        0.      ]\n",
      " [ 0.       67.496296  0.      ]\n",
      " [ 0.        0.       67.496296]]\n"
     ]
    }
   ],
   "source": [
    "# Print the first covariance matrix\n",
    "print(covariance_matrices[0])"
   ]
  },
  {
   "cell_type": "code",
   "execution_count": 14,
   "metadata": {},
   "outputs": [],
   "source": [
    "# Params definition\n",
    "rho0 = 2.284\n",
    "rs = -0.824\n",
    "gamma = 0\n",
    "#beta = 0\n",
    "\n",
    "\n",
    "params = [rho0, rs, gamma]\n",
    "\n",
    "sigma_v = 0  # Set this to 0, 1, or 5 as needed\n",
    "\n",
    "mu_v = calculate_mu_v(mock_data)\n",
    "S_instrumental = create_S_instrumental(sigma_v)\n",
    "\n",
    "#p0 = np.random.uniform(low=[-3, -2, -3, -10], high=[5, 3, 3, 1], size=(nwalker, ndim)) #vettore con inizializzazione randomica dei parametri con beta\n",
    "p0 = np.random.uniform(low=[-3, -2, -3], high=[5, 3, 3], size=(nwalker, ndim)) #vettore con inizializzazione randomica dei parametri"
   ]
  },
  {
   "cell_type": "code",
   "execution_count": 15,
   "metadata": {},
   "outputs": [
    {
     "data": {
      "text/plain": [
       "[2.284, -0.824, 0]"
      ]
     },
     "execution_count": 15,
     "metadata": {},
     "output_type": "execute_result"
    }
   ],
   "source": [
    "params"
   ]
  },
  {
   "cell_type": "code",
   "execution_count": 16,
   "metadata": {},
   "outputs": [
    {
     "data": {
      "text/plain": [
       "array([[-0.58514413, -1.80627026, -1.63939476],\n",
       "       [ 0.16034372,  1.36280463, -2.9962559 ],\n",
       "       [-2.55269144,  1.266652  , -2.51876003],\n",
       "       [ 0.58374498, -1.83847966,  0.11332528],\n",
       "       [ 1.7281798 , -1.95315256, -0.05983203],\n",
       "       [-2.11338062, -1.47358483,  2.74619954],\n",
       "       [ 3.46296575, -1.75343129, -0.99840234],\n",
       "       [ 3.53041957,  0.84650543,  2.62088707],\n",
       "       [ 1.01023128,  1.62675774, -1.73394547],\n",
       "       [ 4.82774013, -1.09088616, -2.7865604 ],\n",
       "       [-1.51608653, -0.6588348 , -1.28918009],\n",
       "       [ 3.13495868, -0.84185493, -1.65192215],\n",
       "       [ 2.59240284,  2.10969224, -0.15340834],\n",
       "       [ 2.23688993,  1.5935335 , -1.31946821],\n",
       "       [ 4.71938035, -1.76220761, -2.33855682],\n",
       "       [ 1.37899892, -1.98250598,  2.75604491],\n",
       "       [ 3.96000921, -1.68171861, -0.36188404],\n",
       "       [-1.55816257,  0.15657252, -0.21909084],\n",
       "       [ 2.18184624,  0.87063547, -0.17606794],\n",
       "       [ 0.18688477,  0.75151597, -0.86777523],\n",
       "       [-0.53624981,  2.12602805, -1.30992494],\n",
       "       [-2.87226995,  1.71915349,  0.64333674],\n",
       "       [-0.84103601, -0.59902314,  1.16343439],\n",
       "       [ 0.53182431, -1.78233607,  0.02101892],\n",
       "       [-0.76155809, -1.13147589, -2.33181789],\n",
       "       [ 1.28012855,  0.83945042,  1.18045275],\n",
       "       [-1.78360327,  2.8649541 ,  0.58264254],\n",
       "       [ 3.31748109,  2.49571466, -0.19088768],\n",
       "       [ 2.9989395 , -1.44253674, -2.23034235],\n",
       "       [ 4.57565099,  1.70578419, -1.61757549],\n",
       "       [ 1.85991583, -1.40502782,  1.62416822],\n",
       "       [-2.63477383,  2.75311269, -1.51034665],\n",
       "       [ 2.38357174,  1.2233564 ,  0.07392234],\n",
       "       [ 4.15220033, -1.7731784 , -1.65603754],\n",
       "       [ 4.82981864,  0.51607948, -0.9165907 ],\n",
       "       [ 2.20067725, -1.74535852,  2.98457688],\n",
       "       [-1.12778487,  2.17284605,  0.72831466],\n",
       "       [ 3.91704481,  2.10591253,  1.35218135],\n",
       "       [ 0.21634177,  1.95584733,  2.86665189],\n",
       "       [-0.19839431,  2.58654765, -2.20814943],\n",
       "       [-2.26947088,  0.2831411 ,  1.23334076],\n",
       "       [ 4.52251119,  0.99274138,  0.05714827],\n",
       "       [ 3.7876777 , -1.82166426,  2.62931231],\n",
       "       [ 2.09346326, -1.45125117,  0.73162005],\n",
       "       [-1.30500023, -0.94523079,  0.08238984],\n",
       "       [-0.61358677,  2.94703433, -0.5736028 ],\n",
       "       [ 2.26494665,  2.48240836, -2.83235974],\n",
       "       [-1.52040309, -1.21105891,  1.0369766 ],\n",
       "       [-0.06284683,  0.45733106, -1.1989928 ],\n",
       "       [ 3.33927858, -1.62341069, -0.89135119]])"
      ]
     },
     "execution_count": 16,
     "metadata": {},
     "output_type": "execute_result"
    }
   ],
   "source": [
    "p0"
   ]
  },
  {
   "cell_type": "code",
   "execution_count": 24,
   "metadata": {},
   "outputs": [
    {
     "name": "stderr",
     "output_type": "stream",
     "text": [
      "  0%|          | 0/500 [00:00<?, ?it/s]C:\\Users\\andre\\AppData\\Local\\Temp\\ipykernel_1544\\373903543.py:40: IntegrationWarning: The integral is probably divergent, or slowly convergent.\n",
      "  integral, _ = integrate.quad(integrand, 0, b, args = (10**rho0, 10**rs, gamma))\n",
      "d:\\Users\\andre\\anaconda3\\envs\\myenv\\Lib\\site-packages\\emcee\\moves\\red_blue.py:99: RuntimeWarning: invalid value encountered in scalar subtract\n",
      "  lnpdiff = f + nlp - state.log_prob[j]\n",
      "  1%|          | 3/500 [00:03<08:44,  1.05s/it]C:\\Users\\andre\\AppData\\Local\\Temp\\ipykernel_1544\\373903543.py:40: IntegrationWarning: The algorithm does not converge.  Roundoff error is detected\n",
      "  in the extrapolation table.  It is assumed that the requested tolerance\n",
      "  cannot be achieved, and that the returned result (if full_output = 1) is \n",
      "  the best which can be obtained.\n",
      "  integral, _ = integrate.quad(integrand, 0, b, args = (10**rho0, 10**rs, gamma))\n",
      "  2%|▏         | 11/500 [00:11<08:52,  1.09s/it]\n"
     ]
    },
    {
     "ename": "KeyboardInterrupt",
     "evalue": "",
     "output_type": "error",
     "traceback": [
      "\u001b[1;31m---------------------------------------------------------------------------\u001b[0m",
      "\u001b[1;31mKeyboardInterrupt\u001b[0m                         Traceback (most recent call last)",
      "Cell \u001b[1;32mIn[24], line 2\u001b[0m\n\u001b[0;32m      1\u001b[0m sampler \u001b[38;5;241m=\u001b[39m emcee\u001b[38;5;241m.\u001b[39mEnsembleSampler(nwalker, ndim, log_likelyhood)\n\u001b[1;32m----> 2\u001b[0m \u001b[43msampler\u001b[49m\u001b[38;5;241;43m.\u001b[39;49m\u001b[43mrun_mcmc\u001b[49m\u001b[43m(\u001b[49m\u001b[43mp0\u001b[49m\u001b[43m,\u001b[49m\u001b[43m \u001b[49m\u001b[43mniter\u001b[49m\u001b[43m,\u001b[49m\u001b[43m \u001b[49m\u001b[43mprogress\u001b[49m\u001b[43m \u001b[49m\u001b[38;5;241;43m=\u001b[39;49m\u001b[43m \u001b[49m\u001b[38;5;28;43;01mTrue\u001b[39;49;00m\u001b[43m)\u001b[49m\n",
      "File \u001b[1;32md:\\Users\\andre\\anaconda3\\envs\\myenv\\Lib\\site-packages\\emcee\\ensemble.py:450\u001b[0m, in \u001b[0;36mEnsembleSampler.run_mcmc\u001b[1;34m(self, initial_state, nsteps, **kwargs)\u001b[0m\n\u001b[0;32m    447\u001b[0m     initial_state \u001b[38;5;241m=\u001b[39m \u001b[38;5;28mself\u001b[39m\u001b[38;5;241m.\u001b[39m_previous_state\n\u001b[0;32m    449\u001b[0m results \u001b[38;5;241m=\u001b[39m \u001b[38;5;28;01mNone\u001b[39;00m\n\u001b[1;32m--> 450\u001b[0m \u001b[43m\u001b[49m\u001b[38;5;28;43;01mfor\u001b[39;49;00m\u001b[43m \u001b[49m\u001b[43mresults\u001b[49m\u001b[43m \u001b[49m\u001b[38;5;129;43;01min\u001b[39;49;00m\u001b[43m \u001b[49m\u001b[38;5;28;43mself\u001b[39;49m\u001b[38;5;241;43m.\u001b[39;49m\u001b[43msample\u001b[49m\u001b[43m(\u001b[49m\u001b[43minitial_state\u001b[49m\u001b[43m,\u001b[49m\u001b[43m \u001b[49m\u001b[43miterations\u001b[49m\u001b[38;5;241;43m=\u001b[39;49m\u001b[43mnsteps\u001b[49m\u001b[43m,\u001b[49m\u001b[43m \u001b[49m\u001b[38;5;241;43m*\u001b[39;49m\u001b[38;5;241;43m*\u001b[39;49m\u001b[43mkwargs\u001b[49m\u001b[43m)\u001b[49m\u001b[43m:\u001b[49m\n\u001b[0;32m    451\u001b[0m \u001b[43m    \u001b[49m\u001b[38;5;28;43;01mpass\u001b[39;49;00m\n\u001b[0;32m    453\u001b[0m \u001b[38;5;66;03m# Store so that the ``initial_state=None`` case will work\u001b[39;00m\n",
      "File \u001b[1;32md:\\Users\\andre\\anaconda3\\envs\\myenv\\Lib\\site-packages\\emcee\\ensemble.py:419\u001b[0m, in \u001b[0;36mEnsembleSampler.sample\u001b[1;34m(self, initial_state, log_prob0, rstate0, blobs0, iterations, tune, skip_initial_state_check, thin_by, thin, store, progress, progress_kwargs)\u001b[0m\n\u001b[0;32m    416\u001b[0m     \u001b[38;5;28;01mif\u001b[39;00m store \u001b[38;5;129;01mand\u001b[39;00m (i \u001b[38;5;241m+\u001b[39m \u001b[38;5;241m1\u001b[39m) \u001b[38;5;241m%\u001b[39m checkpoint_step \u001b[38;5;241m==\u001b[39m \u001b[38;5;241m0\u001b[39m:\n\u001b[0;32m    417\u001b[0m         \u001b[38;5;28mself\u001b[39m\u001b[38;5;241m.\u001b[39mbackend\u001b[38;5;241m.\u001b[39msave_step(state, accepted)\n\u001b[1;32m--> 419\u001b[0m     \u001b[43mpbar\u001b[49m\u001b[38;5;241;43m.\u001b[39;49m\u001b[43mupdate\u001b[49m\u001b[43m(\u001b[49m\u001b[38;5;241;43m1\u001b[39;49m\u001b[43m)\u001b[49m\n\u001b[0;32m    420\u001b[0m     i \u001b[38;5;241m+\u001b[39m\u001b[38;5;241m=\u001b[39m \u001b[38;5;241m1\u001b[39m\n\u001b[0;32m    422\u001b[0m \u001b[38;5;66;03m# Yield the result as an iterator so that the user can do all\u001b[39;00m\n\u001b[0;32m    423\u001b[0m \u001b[38;5;66;03m# sorts of fun stuff with the results so far.\u001b[39;00m\n",
      "File \u001b[1;32md:\\Users\\andre\\anaconda3\\envs\\myenv\\Lib\\site-packages\\tqdm\\std.py:1242\u001b[0m, in \u001b[0;36mtqdm.update\u001b[1;34m(self, n)\u001b[0m\n\u001b[0;32m   1240\u001b[0m     \u001b[38;5;28mself\u001b[39m\u001b[38;5;241m.\u001b[39m_ema_dn(dn)\n\u001b[0;32m   1241\u001b[0m     \u001b[38;5;28mself\u001b[39m\u001b[38;5;241m.\u001b[39m_ema_dt(dt)\n\u001b[1;32m-> 1242\u001b[0m \u001b[38;5;28;43mself\u001b[39;49m\u001b[38;5;241;43m.\u001b[39;49m\u001b[43mrefresh\u001b[49m\u001b[43m(\u001b[49m\u001b[43mlock_args\u001b[49m\u001b[38;5;241;43m=\u001b[39;49m\u001b[38;5;28;43mself\u001b[39;49m\u001b[38;5;241;43m.\u001b[39;49m\u001b[43mlock_args\u001b[49m\u001b[43m)\u001b[49m\n\u001b[0;32m   1243\u001b[0m \u001b[38;5;28;01mif\u001b[39;00m \u001b[38;5;28mself\u001b[39m\u001b[38;5;241m.\u001b[39mdynamic_miniters:\n\u001b[0;32m   1244\u001b[0m     \u001b[38;5;66;03m# If no `miniters` was specified, adjust automatically to the\u001b[39;00m\n\u001b[0;32m   1245\u001b[0m     \u001b[38;5;66;03m# maximum iteration rate seen so far between two prints.\u001b[39;00m\n\u001b[0;32m   1246\u001b[0m     \u001b[38;5;66;03m# e.g.: After running `tqdm.update(5)`, subsequent\u001b[39;00m\n\u001b[0;32m   1247\u001b[0m     \u001b[38;5;66;03m# calls to `tqdm.update()` will only cause an update after\u001b[39;00m\n\u001b[0;32m   1248\u001b[0m     \u001b[38;5;66;03m# at least 5 more iterations.\u001b[39;00m\n\u001b[0;32m   1249\u001b[0m     \u001b[38;5;28;01mif\u001b[39;00m \u001b[38;5;28mself\u001b[39m\u001b[38;5;241m.\u001b[39mmaxinterval \u001b[38;5;129;01mand\u001b[39;00m dt \u001b[38;5;241m>\u001b[39m\u001b[38;5;241m=\u001b[39m \u001b[38;5;28mself\u001b[39m\u001b[38;5;241m.\u001b[39mmaxinterval:\n",
      "File \u001b[1;32md:\\Users\\andre\\anaconda3\\envs\\myenv\\Lib\\site-packages\\tqdm\\std.py:1347\u001b[0m, in \u001b[0;36mtqdm.refresh\u001b[1;34m(self, nolock, lock_args)\u001b[0m\n\u001b[0;32m   1345\u001b[0m     \u001b[38;5;28;01melse\u001b[39;00m:\n\u001b[0;32m   1346\u001b[0m         \u001b[38;5;28mself\u001b[39m\u001b[38;5;241m.\u001b[39m_lock\u001b[38;5;241m.\u001b[39macquire()\n\u001b[1;32m-> 1347\u001b[0m \u001b[38;5;28;43mself\u001b[39;49m\u001b[38;5;241;43m.\u001b[39;49m\u001b[43mdisplay\u001b[49m\u001b[43m(\u001b[49m\u001b[43m)\u001b[49m\n\u001b[0;32m   1348\u001b[0m \u001b[38;5;28;01mif\u001b[39;00m \u001b[38;5;129;01mnot\u001b[39;00m nolock:\n\u001b[0;32m   1349\u001b[0m     \u001b[38;5;28mself\u001b[39m\u001b[38;5;241m.\u001b[39m_lock\u001b[38;5;241m.\u001b[39mrelease()\n",
      "File \u001b[1;32md:\\Users\\andre\\anaconda3\\envs\\myenv\\Lib\\site-packages\\tqdm\\std.py:1495\u001b[0m, in \u001b[0;36mtqdm.display\u001b[1;34m(self, msg, pos)\u001b[0m\n\u001b[0;32m   1493\u001b[0m \u001b[38;5;28;01mif\u001b[39;00m pos:\n\u001b[0;32m   1494\u001b[0m     \u001b[38;5;28mself\u001b[39m\u001b[38;5;241m.\u001b[39mmoveto(pos)\n\u001b[1;32m-> 1495\u001b[0m \u001b[38;5;28;43mself\u001b[39;49m\u001b[38;5;241;43m.\u001b[39;49m\u001b[43msp\u001b[49m\u001b[43m(\u001b[49m\u001b[38;5;28;43mself\u001b[39;49m\u001b[38;5;241;43m.\u001b[39;49m\u001b[38;5;21;43m__str__\u001b[39;49m\u001b[43m(\u001b[49m\u001b[43m)\u001b[49m\u001b[43m \u001b[49m\u001b[38;5;28;43;01mif\u001b[39;49;00m\u001b[43m \u001b[49m\u001b[43mmsg\u001b[49m\u001b[43m \u001b[49m\u001b[38;5;129;43;01mis\u001b[39;49;00m\u001b[43m \u001b[49m\u001b[38;5;28;43;01mNone\u001b[39;49;00m\u001b[43m \u001b[49m\u001b[38;5;28;43;01melse\u001b[39;49;00m\u001b[43m \u001b[49m\u001b[43mmsg\u001b[49m\u001b[43m)\u001b[49m\n\u001b[0;32m   1496\u001b[0m \u001b[38;5;28;01mif\u001b[39;00m pos:\n\u001b[0;32m   1497\u001b[0m     \u001b[38;5;28mself\u001b[39m\u001b[38;5;241m.\u001b[39mmoveto(\u001b[38;5;241m-\u001b[39mpos)\n",
      "File \u001b[1;32md:\\Users\\andre\\anaconda3\\envs\\myenv\\Lib\\site-packages\\tqdm\\std.py:459\u001b[0m, in \u001b[0;36mtqdm.status_printer.<locals>.print_status\u001b[1;34m(s)\u001b[0m\n\u001b[0;32m    457\u001b[0m \u001b[38;5;28;01mdef\u001b[39;00m \u001b[38;5;21mprint_status\u001b[39m(s):\n\u001b[0;32m    458\u001b[0m     len_s \u001b[38;5;241m=\u001b[39m disp_len(s)\n\u001b[1;32m--> 459\u001b[0m     \u001b[43mfp_write\u001b[49m\u001b[43m(\u001b[49m\u001b[38;5;124;43m'\u001b[39;49m\u001b[38;5;130;43;01m\\r\u001b[39;49;00m\u001b[38;5;124;43m'\u001b[39;49m\u001b[43m \u001b[49m\u001b[38;5;241;43m+\u001b[39;49m\u001b[43m \u001b[49m\u001b[43ms\u001b[49m\u001b[43m \u001b[49m\u001b[38;5;241;43m+\u001b[39;49m\u001b[43m \u001b[49m\u001b[43m(\u001b[49m\u001b[38;5;124;43m'\u001b[39;49m\u001b[38;5;124;43m \u001b[39;49m\u001b[38;5;124;43m'\u001b[39;49m\u001b[43m \u001b[49m\u001b[38;5;241;43m*\u001b[39;49m\u001b[43m \u001b[49m\u001b[38;5;28;43mmax\u001b[39;49m\u001b[43m(\u001b[49m\u001b[43mlast_len\u001b[49m\u001b[43m[\u001b[49m\u001b[38;5;241;43m0\u001b[39;49m\u001b[43m]\u001b[49m\u001b[43m \u001b[49m\u001b[38;5;241;43m-\u001b[39;49m\u001b[43m \u001b[49m\u001b[43mlen_s\u001b[49m\u001b[43m,\u001b[49m\u001b[43m \u001b[49m\u001b[38;5;241;43m0\u001b[39;49m\u001b[43m)\u001b[49m\u001b[43m)\u001b[49m\u001b[43m)\u001b[49m\n\u001b[0;32m    460\u001b[0m     last_len[\u001b[38;5;241m0\u001b[39m] \u001b[38;5;241m=\u001b[39m len_s\n",
      "File \u001b[1;32md:\\Users\\andre\\anaconda3\\envs\\myenv\\Lib\\site-packages\\tqdm\\std.py:452\u001b[0m, in \u001b[0;36mtqdm.status_printer.<locals>.fp_write\u001b[1;34m(s)\u001b[0m\n\u001b[0;32m    451\u001b[0m \u001b[38;5;28;01mdef\u001b[39;00m \u001b[38;5;21mfp_write\u001b[39m(s):\n\u001b[1;32m--> 452\u001b[0m     \u001b[43mfp\u001b[49m\u001b[38;5;241;43m.\u001b[39;49m\u001b[43mwrite\u001b[49m\u001b[43m(\u001b[49m\u001b[38;5;28;43mstr\u001b[39;49m\u001b[43m(\u001b[49m\u001b[43ms\u001b[49m\u001b[43m)\u001b[49m\u001b[43m)\u001b[49m\n\u001b[0;32m    453\u001b[0m     fp_flush()\n",
      "File \u001b[1;32md:\\Users\\andre\\anaconda3\\envs\\myenv\\Lib\\site-packages\\tqdm\\utils.py:196\u001b[0m, in \u001b[0;36mDisableOnWriteError.disable_on_exception.<locals>.inner\u001b[1;34m(*args, **kwargs)\u001b[0m\n\u001b[0;32m    194\u001b[0m \u001b[38;5;28;01mdef\u001b[39;00m \u001b[38;5;21minner\u001b[39m(\u001b[38;5;241m*\u001b[39margs, \u001b[38;5;241m*\u001b[39m\u001b[38;5;241m*\u001b[39mkwargs):\n\u001b[0;32m    195\u001b[0m     \u001b[38;5;28;01mtry\u001b[39;00m:\n\u001b[1;32m--> 196\u001b[0m         \u001b[38;5;28;01mreturn\u001b[39;00m \u001b[43mfunc\u001b[49m\u001b[43m(\u001b[49m\u001b[38;5;241;43m*\u001b[39;49m\u001b[43margs\u001b[49m\u001b[43m,\u001b[49m\u001b[43m \u001b[49m\u001b[38;5;241;43m*\u001b[39;49m\u001b[38;5;241;43m*\u001b[39;49m\u001b[43mkwargs\u001b[49m\u001b[43m)\u001b[49m\n\u001b[0;32m    197\u001b[0m     \u001b[38;5;28;01mexcept\u001b[39;00m \u001b[38;5;167;01mOSError\u001b[39;00m \u001b[38;5;28;01mas\u001b[39;00m e:\n\u001b[0;32m    198\u001b[0m         \u001b[38;5;28;01mif\u001b[39;00m e\u001b[38;5;241m.\u001b[39merrno \u001b[38;5;241m!=\u001b[39m \u001b[38;5;241m5\u001b[39m:\n",
      "File \u001b[1;32md:\\Users\\andre\\anaconda3\\envs\\myenv\\Lib\\site-packages\\ipykernel\\iostream.py:694\u001b[0m, in \u001b[0;36mOutStream.write\u001b[1;34m(self, string)\u001b[0m\n\u001b[0;32m    692\u001b[0m     \u001b[38;5;28mself\u001b[39m\u001b[38;5;241m.\u001b[39mpub_thread\u001b[38;5;241m.\u001b[39mschedule(\u001b[38;5;28mself\u001b[39m\u001b[38;5;241m.\u001b[39m_flush)\n\u001b[0;32m    693\u001b[0m \u001b[38;5;28;01melse\u001b[39;00m:\n\u001b[1;32m--> 694\u001b[0m     \u001b[38;5;28;43mself\u001b[39;49m\u001b[38;5;241;43m.\u001b[39;49m\u001b[43m_schedule_flush\u001b[49m\u001b[43m(\u001b[49m\u001b[43m)\u001b[49m\n\u001b[0;32m    696\u001b[0m \u001b[38;5;28;01mreturn\u001b[39;00m \u001b[38;5;28mlen\u001b[39m(string)\n",
      "File \u001b[1;32md:\\Users\\andre\\anaconda3\\envs\\myenv\\Lib\\site-packages\\ipykernel\\iostream.py:590\u001b[0m, in \u001b[0;36mOutStream._schedule_flush\u001b[1;34m(self)\u001b[0m\n\u001b[0;32m    587\u001b[0m \u001b[38;5;28;01mdef\u001b[39;00m \u001b[38;5;21m_schedule_in_thread\u001b[39m():\n\u001b[0;32m    588\u001b[0m     \u001b[38;5;28mself\u001b[39m\u001b[38;5;241m.\u001b[39m_io_loop\u001b[38;5;241m.\u001b[39mcall_later(\u001b[38;5;28mself\u001b[39m\u001b[38;5;241m.\u001b[39mflush_interval, \u001b[38;5;28mself\u001b[39m\u001b[38;5;241m.\u001b[39m_flush)\n\u001b[1;32m--> 590\u001b[0m \u001b[38;5;28;43mself\u001b[39;49m\u001b[38;5;241;43m.\u001b[39;49m\u001b[43mpub_thread\u001b[49m\u001b[38;5;241;43m.\u001b[39;49m\u001b[43mschedule\u001b[49m\u001b[43m(\u001b[49m\u001b[43m_schedule_in_thread\u001b[49m\u001b[43m)\u001b[49m\n",
      "File \u001b[1;32md:\\Users\\andre\\anaconda3\\envs\\myenv\\Lib\\site-packages\\ipykernel\\iostream.py:267\u001b[0m, in \u001b[0;36mIOPubThread.schedule\u001b[1;34m(self, f)\u001b[0m\n\u001b[0;32m    265\u001b[0m     \u001b[38;5;28mself\u001b[39m\u001b[38;5;241m.\u001b[39m_events\u001b[38;5;241m.\u001b[39mappend(f)\n\u001b[0;32m    266\u001b[0m     \u001b[38;5;66;03m# wake event thread (message content is ignored)\u001b[39;00m\n\u001b[1;32m--> 267\u001b[0m     \u001b[38;5;28;43mself\u001b[39;49m\u001b[38;5;241;43m.\u001b[39;49m\u001b[43m_event_pipe\u001b[49m\u001b[38;5;241;43m.\u001b[39;49m\u001b[43msend\u001b[49m\u001b[43m(\u001b[49m\u001b[38;5;124;43mb\u001b[39;49m\u001b[38;5;124;43m\"\u001b[39;49m\u001b[38;5;124;43m\"\u001b[39;49m\u001b[43m)\u001b[49m\n\u001b[0;32m    268\u001b[0m \u001b[38;5;28;01melse\u001b[39;00m:\n\u001b[0;32m    269\u001b[0m     f()\n",
      "File \u001b[1;32md:\\Users\\andre\\anaconda3\\envs\\myenv\\Lib\\site-packages\\zmq\\sugar\\socket.py:701\u001b[0m, in \u001b[0;36mSocket.send\u001b[1;34m(self, data, flags, copy, track, routing_id, group)\u001b[0m\n\u001b[0;32m    694\u001b[0m         data \u001b[38;5;241m=\u001b[39m zmq\u001b[38;5;241m.\u001b[39mFrame(\n\u001b[0;32m    695\u001b[0m             data,\n\u001b[0;32m    696\u001b[0m             track\u001b[38;5;241m=\u001b[39mtrack,\n\u001b[0;32m    697\u001b[0m             copy\u001b[38;5;241m=\u001b[39mcopy \u001b[38;5;129;01mor\u001b[39;00m \u001b[38;5;28;01mNone\u001b[39;00m,\n\u001b[0;32m    698\u001b[0m             copy_threshold\u001b[38;5;241m=\u001b[39m\u001b[38;5;28mself\u001b[39m\u001b[38;5;241m.\u001b[39mcopy_threshold,\n\u001b[0;32m    699\u001b[0m         )\n\u001b[0;32m    700\u001b[0m     data\u001b[38;5;241m.\u001b[39mgroup \u001b[38;5;241m=\u001b[39m group\n\u001b[1;32m--> 701\u001b[0m \u001b[38;5;28;01mreturn\u001b[39;00m \u001b[38;5;28;43msuper\u001b[39;49m\u001b[43m(\u001b[49m\u001b[43m)\u001b[49m\u001b[38;5;241;43m.\u001b[39;49m\u001b[43msend\u001b[49m\u001b[43m(\u001b[49m\u001b[43mdata\u001b[49m\u001b[43m,\u001b[49m\u001b[43m \u001b[49m\u001b[43mflags\u001b[49m\u001b[38;5;241;43m=\u001b[39;49m\u001b[43mflags\u001b[49m\u001b[43m,\u001b[49m\u001b[43m \u001b[49m\u001b[43mcopy\u001b[49m\u001b[38;5;241;43m=\u001b[39;49m\u001b[43mcopy\u001b[49m\u001b[43m,\u001b[49m\u001b[43m \u001b[49m\u001b[43mtrack\u001b[49m\u001b[38;5;241;43m=\u001b[39;49m\u001b[43mtrack\u001b[49m\u001b[43m)\u001b[49m\n",
      "File \u001b[1;32m_zmq.py:1073\u001b[0m, in \u001b[0;36mzmq.backend.cython._zmq.Socket.send\u001b[1;34m()\u001b[0m\n",
      "File \u001b[1;32m_zmq.py:1121\u001b[0m, in \u001b[0;36mzmq.backend.cython._zmq.Socket.send\u001b[1;34m()\u001b[0m\n",
      "File \u001b[1;32m_zmq.py:1320\u001b[0m, in \u001b[0;36mzmq.backend.cython._zmq._send_copy\u001b[1;34m()\u001b[0m\n",
      "File \u001b[1;32m_zmq.py:141\u001b[0m, in \u001b[0;36mzmq.backend.cython._zmq._check_rc\u001b[1;34m()\u001b[0m\n",
      "\u001b[1;31mKeyboardInterrupt\u001b[0m: "
     ]
    }
   ],
   "source": [
    "sampler = emcee.EnsembleSampler(nwalker, ndim, log_likelyhood)\n",
    "sampler.run_mcmc(p0, niter, progress = True)"
   ]
  },
  {
   "cell_type": "code",
   "execution_count": 18,
   "metadata": {},
   "outputs": [
    {
     "data": {
      "text/plain": [
       "array([[-0.58514413, -1.80627026, -1.63939476],\n",
       "       [ 0.16034372,  1.36280463, -2.9962559 ],\n",
       "       [-2.55269144,  1.266652  , -2.51876003],\n",
       "       ...,\n",
       "       [-1.52040309, -1.21105891,  1.0369766 ],\n",
       "       [-0.06284683,  0.45733106, -1.1989928 ],\n",
       "       [ 3.33927858, -1.62341069, -0.89135119]])"
      ]
     },
     "execution_count": 18,
     "metadata": {},
     "output_type": "execute_result"
    }
   ],
   "source": [
    "samples=sampler.get_chain(discard=10,thin=2,flat=True)\n",
    "samples\n",
    "# 2 // -0.8 // 0.2"
   ]
  },
  {
   "cell_type": "code",
   "execution_count": 22,
   "metadata": {},
   "outputs": [
    {
     "data": {
      "text/plain": [
       "(12250, 3)"
      ]
     },
     "execution_count": 22,
     "metadata": {},
     "output_type": "execute_result"
    }
   ],
   "source": [
    "samples.shape"
   ]
  },
  {
   "cell_type": "code",
   "execution_count": 20,
   "metadata": {},
   "outputs": [
    {
     "ename": "ValueError",
     "evalue": "too many values to unpack (expected 2)",
     "output_type": "error",
     "traceback": [
      "\u001b[1;31m---------------------------------------------------------------------------\u001b[0m",
      "\u001b[1;31mValueError\u001b[0m                                Traceback (most recent call last)",
      "Cell \u001b[1;32mIn[20], line 3\u001b[0m\n\u001b[0;32m      1\u001b[0m samples1 \u001b[38;5;241m=\u001b[39m sampler\u001b[38;5;241m.\u001b[39mchain\u001b[38;5;241m.\u001b[39mreshape((\u001b[38;5;241m-\u001b[39m\u001b[38;5;241m1\u001b[39m, ndim))\n\u001b[1;32m----> 3\u001b[0m om_mc, H0_mc \u001b[38;5;241m=\u001b[39m \u001b[38;5;28mmap\u001b[39m(\u001b[38;5;28;01mlambda\u001b[39;00m v: (v[\u001b[38;5;241m1\u001b[39m], v[\u001b[38;5;241m2\u001b[39m]\u001b[38;5;241m-\u001b[39mv[\u001b[38;5;241m1\u001b[39m], v[\u001b[38;5;241m1\u001b[39m]\u001b[38;5;241m-\u001b[39mv[\u001b[38;5;241m0\u001b[39m]), \u001b[38;5;28mzip\u001b[39m(\u001b[38;5;241m*\u001b[39mnp\u001b[38;5;241m.\u001b[39mpercentile(samples1, [\u001b[38;5;241m16\u001b[39m, \u001b[38;5;241m50\u001b[39m, \u001b[38;5;241m84\u001b[39m], axis\u001b[38;5;241m=\u001b[39m\u001b[38;5;241m0\u001b[39m)))\n\u001b[0;32m      5\u001b[0m \u001b[38;5;66;03m#Plotting the traces\u001b[39;00m\n\u001b[0;32m      6\u001b[0m thin, discard \u001b[38;5;241m=\u001b[39m \u001b[38;5;241m2\u001b[39m, \u001b[38;5;241m10\u001b[39m\n",
      "\u001b[1;31mValueError\u001b[0m: too many values to unpack (expected 2)"
     ]
    }
   ],
   "source": [
    "samples1 = sampler.chain.reshape((-1, ndim))\n",
    "\n",
    "om_mc, H0_mc = map(lambda v: (v[1], v[2]-v[1], v[1]-v[0]), zip(*np.percentile(samples1, [16, 50, 84], axis=0)))\n",
    "\n",
    "#Plotting the traces\n",
    "thin, discard = 2, 10\n",
    "fig, axes = plt.subplots(ndim, figsize=(18,9), sharex=True)\n",
    "\n",
    "#plt.figure(figsize=(18,9))\n",
    "\n",
    "for i in range(ndim):\n",
    "    ax = axes[i]\n",
    "    #plt.subplot(2,ndim//2,i+1) #this is for making two rows.\n",
    "    ax.plot(sampler.get_chain()[thin:,discard:,i], color='black',alpha=0.1, lw=0.15)\n",
    "    ax.set_xlim(0, len(sampler.get_chain()))\n",
    "    ax.set_ylabel(params[i])\n",
    "\n",
    "axes[-1].set_xlabel(\"step number\");\n",
    "plt.tight_layout ()\n",
    "\n",
    "fig=corner.corner(samples,labels=params,show_titles=True,color='green',Truths=[om_mc,H0_mc],smooth=2.,Levels=[0.68,0.95],plot_density=True,plot_datapoints=False)\n",
    "\n",
    "fig.savefig(\"corner_plot1.pdf\")"
   ]
  },
  {
   "cell_type": "code",
   "execution_count": null,
   "metadata": {},
   "outputs": [],
   "source": []
  },
  {
   "cell_type": "code",
   "execution_count": null,
   "metadata": {},
   "outputs": [],
   "source": []
  },
  {
   "cell_type": "code",
   "execution_count": null,
   "metadata": {},
   "outputs": [],
   "source": []
  },
  {
   "cell_type": "code",
   "execution_count": null,
   "metadata": {},
   "outputs": [],
   "source": []
  }
 ],
 "metadata": {
  "kernelspec": {
   "display_name": "base",
   "language": "python",
   "name": "python3"
  },
  "language_info": {
   "codemirror_mode": {
    "name": "ipython",
    "version": 3
   },
   "file_extension": ".py",
   "mimetype": "text/x-python",
   "name": "python",
   "nbconvert_exporter": "python",
   "pygments_lexer": "ipython3",
   "version": "3.11.5"
  }
 },
 "nbformat": 4,
 "nbformat_minor": 2
}
