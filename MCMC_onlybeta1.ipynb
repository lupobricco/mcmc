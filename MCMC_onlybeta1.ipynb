{
 "cells": [
  {
   "cell_type": "markdown",
   "metadata": {},
   "source": [
    "## MCMC"
   ]
  },
  {
   "cell_type": "markdown",
   "metadata": {},
   "source": [
    "## Import"
   ]
  },
  {
   "cell_type": "code",
   "execution_count": 5,
   "metadata": {},
   "outputs": [],
   "source": [
    "import numpy as np\n",
    "import pandas as pd\n",
    "import os\n",
    "import emcee\n",
    "from multiprocessing import Pool, cpu_count\n",
    "import scipy.integrate as integrate\n",
    "import math"
   ]
  },
  {
   "cell_type": "code",
   "execution_count": 6,
   "metadata": {},
   "outputs": [],
   "source": [
    "import os\n",
    "import numpy as np\n",
    "import matplotlib.pyplot as plt\n",
    "import corner\n",
    "from scipy import integrate \n",
    "from matplotlib import rc\n",
    "plt.rcParams.update({'font.size': 12})\n",
    "from multiprocessing import Pool, cpu_count\n",
    "import emcee\n",
    "from tqdm import tqdm\n",
    "import scipy.linalg as la\n",
    "import arviz as az"
   ]
  },
  {
   "cell_type": "markdown",
   "metadata": {},
   "source": [
    "## Constants"
   ]
  },
  {
   "cell_type": "code",
   "execution_count": 7,
   "metadata": {},
   "outputs": [],
   "source": [
    "# Define file paths\n",
    "base_directory = 'D:\\\\OneDrive\\\\Documents\\\\progetto_chiura\\\\mcmc\\\\save'\n",
    "covariance_directory = 'D:\\\\OneDrive\\\\Documents\\\\progetto_chiura\\\\mcmc\\\\save\\\\covariance_matrix'\n",
    "\n",
    "# Define constants\n",
    "G = 4.30091e-6\n",
    "\n",
    "# Define directories and variables\n",
    "star_number = 100\n",
    "anisotropy_type = 'iso'\n",
    "profile_type = 'core'\n",
    "space_type = 'cartesian'\n",
    "print_matrix = 0  # Set this to choose which covariance matrix to print\n",
    "\n",
    "nwalker = 50 #50\n",
    "ndim = 3 #this dfines the number of model parameters that required to be constrained.\n",
    "niter = 500 #500\n",
    "\n",
    "\n",
    "\n",
    "integrand1 = lambda r: r**2 * (rho0 / (((r / rs)**gamma) * (1 + r / rs)**(3 - gamma)))"
   ]
  },
  {
   "cell_type": "markdown",
   "metadata": {},
   "source": [
    "# Loaders"
   ]
  },
  {
   "cell_type": "code",
   "execution_count": 8,
   "metadata": {},
   "outputs": [],
   "source": [
    "#Create mockdata\n",
    "def load_data(file_path):\n",
    "    data = pd.read_csv(file_path, delim_whitespace=True, names=['x', 'y', 'z', 'vx', 'vy', 'vz'])\n",
    "\n",
    "    return data.to_numpy()  # Convert the DataFrame to a NumPy array, \n",
    "        \n",
    "#Create cov matrixes\n",
    "def load_covariance_matrix(star_index, anisotropy_type,star_number):\n",
    "\n",
    "\n",
    "    file_name = f'Cij_cartesian_stars_{star_index}_{profile_type}_beta_{anisotropy_type}.txt'\n",
    "    covariance_star_path = file_path = os.path.join(covariance_directory, f'star{star_number}')\n",
    "    file_path = os.path.join(covariance_star_path, file_name)\n",
    "    \n",
    "    matrix = np.loadtxt(file_path)\n",
    "    return matrix"
   ]
  },
  {
   "cell_type": "code",
   "execution_count": 9,
   "metadata": {},
   "outputs": [
    {
     "name": "stderr",
     "output_type": "stream",
     "text": [
      "C:\\Users\\andre\\AppData\\Local\\Temp\\ipykernel_1544\\3422306808.py:3: FutureWarning: The 'delim_whitespace' keyword in pd.read_csv is deprecated and will be removed in a future version. Use ``sep='\\s+'`` instead\n",
      "  data = pd.read_csv(file_path, delim_whitespace=True, names=['x', 'y', 'z', 'vx', 'vy', 'vz'])\n"
     ]
    }
   ],
   "source": [
    "#Load the mock data\n",
    "mock_data_file = f'Mockdata_{space_type}_{star_number}_stars_{profile_type}_beta_{anisotropy_type}.txt'\n",
    "mock_data_path = os.path.join(base_directory, mock_data_file)\n",
    "mock_data = load_data(mock_data_path) #array [][] che contiene i dati"
   ]
  },
  {
   "cell_type": "markdown",
   "metadata": {},
   "source": [
    "## Functions"
   ]
  },
  {
   "cell_type": "markdown",
   "metadata": {},
   "source": [
    "# Likelyhood functions"
   ]
  },
  {
   "cell_type": "code",
   "execution_count": 10,
   "metadata": {},
   "outputs": [],
   "source": [
    "# Calculate the sigma_vt^2 value for a given covariance matrix index\n",
    "def calculate_sigma_vt2(matrix_index, covariance_matrices): #matrix index gli passero poi star_index\n",
    "    \n",
    "    covariance_matrix = covariance_matrices[matrix_index]\n",
    "    \n",
    "    sigma_vtheta_vtheta = covariance_matrix[1, 1]\n",
    "    sigma_vphi_vphi = covariance_matrix[2, 2]\n",
    "    \n",
    "    sigma_vt2 = (sigma_vtheta_vtheta + sigma_vphi_vphi) / 2\n",
    "    return sigma_vt2\n",
    "\n",
    "#Create a 3x3 instrumental covariance matrix with specified sigma_v.\n",
    "def create_S_instrumental(sigma_v):\n",
    "\n",
    "    S_instrumental = np.zeros((3, 3))\n",
    "    np.fill_diagonal(S_instrumental, sigma_v**2)\n",
    "    return S_instrumental\n",
    "\n",
    "def calculate_mu_v(mock_data):\n",
    "    \n",
    "    avg_vx = np.mean(mock_data[3])\n",
    "    avg_vy = np.mean(mock_data[4])\n",
    "    avg_vz = np.mean(mock_data[5])\n",
    "    \n",
    "    mu_v = np.array([avg_vx, avg_vy, avg_vz])\n",
    "\n",
    "    return mu_v\n",
    "\n",
    "\n",
    "def integrand(r, rho0, rs, gamma):\n",
    "        return  r**2 * (rho0 / (((r / rs)**gamma) * (1 + r / rs)**(3 - gamma)))\n",
    "\n",
    "\n",
    "def DM_profile_model(mock_data, params, star_index):\n",
    "    # Unpack the parameters\n",
    "    rho0, rs, gamma = params\n",
    "\n",
    "    b = np.sqrt(mock_data[star_index][0]**2 + mock_data[star_index][1]**2 + mock_data[star_index][2]**2)\n",
    "\n",
    "    integral, _ = integrate.quad(integrand, 0, b, args = (10**rho0, 10**rs, gamma))\n",
    "\n",
    "    V_squared = (4 * np.pi * G / b) * abs(integral)\n",
    "        \n",
    "    V_r = np.sqrt(V_squared)\n",
    "    \n",
    "    return V_r\n",
    "\n",
    "\n",
    "\n",
    "def p_v_given_r(star_index, mu_v, S_instrumental, covariance_matrix, ndim, mock_data, params):\n",
    "\n",
    "    V_r = DM_profile_model(mock_data, params, star_index) #eh ma sta velocità è un numero non un vettore\n",
    "    V_r_vett = [V_r, V_r, V_r]\n",
    "    \n",
    "    # Calculate relative velocity vector\n",
    "    # v_relative = V_r - np.linalg.norm(mu_v)\n",
    "    v_relative = V_r_vett - mu_v\n",
    "\n",
    "    # Calculate S_total which is the sum of S_instrumental and covariance_matrix\n",
    "    S_total = S_instrumental + covariance_matrix\n",
    "\n",
    "    log_numerator = (-0.5 * np.dot(np.dot(np.transpose(v_relative), np.linalg.inv(S_total)), v_relative))\n",
    "    log_denominator = 0.5*np.log10(((2 * np.pi)**ndim)*(np.linalg.det(S_total)))\n",
    "    return log_numerator - log_denominator\n",
    "\n",
    "\n",
    "\n",
    "#Likelyhood\n",
    "def log_likelyhood(params):\n",
    "    L_params = 0\n",
    "\n",
    "    for star_index in range(star_number):\n",
    "    \n",
    "        covariance_matrix = covariance_matrices[star_index]\n",
    "        position_cartesian = mock_data[star_index][:3]\n",
    "        #v_cartesian = mock_data[star_index][3:]\n",
    "\n",
    "        prob_given_r = p_v_given_r(star_index, mu_v, S_instrumental, covariance_matrix, ndim, mock_data, params)\n",
    "\n",
    "        L_params += prob_given_r\n",
    "    if not math.isnan(L_params):\n",
    "        return -np.inf\n",
    "    return L_params"
   ]
  },
  {
   "cell_type": "markdown",
   "metadata": {},
   "source": [
    "## Main"
   ]
  },
  {
   "cell_type": "code",
   "execution_count": 11,
   "metadata": {},
   "outputs": [
    {
     "name": "stdout",
     "output_type": "stream",
     "text": [
      "First row of mock data:\n",
      "[ 0.23216535 -0.02628695 -0.18520756  1.05255798 -6.33599615 -0.69663847]\n"
     ]
    }
   ],
   "source": [
    "# Print the first row of mock data\n",
    "print(\"First row of mock data:\")\n",
    "print(mock_data[0])"
   ]
  },
  {
   "cell_type": "code",
   "execution_count": 12,
   "metadata": {},
   "outputs": [],
   "source": [
    "# Load covariance matrices\n",
    "#covariance_directory = os.path.join(base_directory, f'covariance_matrix\\\\star{star_number}')\n",
    "covariance_matrices = []\n",
    "\n",
    "for star_index in range(star_number):\n",
    "    matrix = load_covariance_matrix(star_index, anisotropy_type, star_number)\n",
    "    covariance_matrices.append(matrix) #array di matrici di covarianza"
   ]
  },
  {
   "cell_type": "code",
   "execution_count": 13,
   "metadata": {},
   "outputs": [
    {
     "name": "stdout",
     "output_type": "stream",
     "text": [
      "[[67.496296  0.        0.      ]\n",
      " [ 0.       67.496296  0.      ]\n",
      " [ 0.        0.       67.496296]]\n"
     ]
    }
   ],
   "source": [
    "# Print the first covariance matrix\n",
    "print(covariance_matrices[0])"
   ]
  },
  {
   "cell_type": "code",
   "execution_count": 14,
   "metadata": {},
   "outputs": [],
   "source": [
    "# Params definition\n",
    "rho0 = 2.284\n",
    "rs = -0.824\n",
    "gamma = 0\n",
    "#beta = 0\n",
    "\n",
    "\n",
    "params = [rho0, rs, gamma]\n",
    "\n",
    "sigma_v = 0  # Set this to 0, 1, or 5 as needed\n",
    "\n",
    "mu_v = calculate_mu_v(mock_data)\n",
    "S_instrumental = create_S_instrumental(sigma_v)\n",
    "\n",
    "#p0 = np.random.uniform(low=[-3, -2, -3, -10], high=[5, 3, 3, 1], size=(nwalker, ndim)) #vettore con inizializzazione randomica dei parametri con beta\n",
    "p0 = np.random.uniform(low=[-3, -2, -3], high=[5, 3, 3], size=(nwalker, ndim)) #vettore con inizializzazione randomica dei parametri"
   ]
  },
  {
   "cell_type": "code",
   "execution_count": 15,
   "metadata": {},
   "outputs": [
    {
     "data": {
      "text/plain": [
       "[2.284, -0.824, 0]"
      ]
     },
     "execution_count": 15,
     "metadata": {},
     "output_type": "execute_result"
    }
   ],
   "source": [
    "params"
   ]
  },
  {
   "cell_type": "code",
   "execution_count": 16,
   "metadata": {},
   "outputs": [
    {
     "data": {
      "text/plain": [
       "array([[-0.58514413, -1.80627026, -1.63939476],\n",
       "       [ 0.16034372,  1.36280463, -2.9962559 ],\n",
       "       [-2.55269144,  1.266652  , -2.51876003],\n",
       "       [ 0.58374498, -1.83847966,  0.11332528],\n",
       "       [ 1.7281798 , -1.95315256, -0.05983203],\n",
       "       [-2.11338062, -1.47358483,  2.74619954],\n",
       "       [ 3.46296575, -1.75343129, -0.99840234],\n",
       "       [ 3.53041957,  0.84650543,  2.62088707],\n",
       "       [ 1.01023128,  1.62675774, -1.73394547],\n",
       "       [ 4.82774013, -1.09088616, -2.7865604 ],\n",
       "       [-1.51608653, -0.6588348 , -1.28918009],\n",
       "       [ 3.13495868, -0.84185493, -1.65192215],\n",
       "       [ 2.59240284,  2.10969224, -0.15340834],\n",
       "       [ 2.23688993,  1.5935335 , -1.31946821],\n",
       "       [ 4.71938035, -1.76220761, -2.33855682],\n",
       "       [ 1.37899892, -1.98250598,  2.75604491],\n",
       "       [ 3.96000921, -1.68171861, -0.36188404],\n",
       "       [-1.55816257,  0.15657252, -0.21909084],\n",
       "       [ 2.18184624,  0.87063547, -0.17606794],\n",
       "       [ 0.18688477,  0.75151597, -0.86777523],\n",
       "       [-0.53624981,  2.12602805, -1.30992494],\n",
       "       [-2.87226995,  1.71915349,  0.64333674],\n",
       "       [-0.84103601, -0.59902314,  1.16343439],\n",
       "       [ 0.53182431, -1.78233607,  0.02101892],\n",
       "       [-0.76155809, -1.13147589, -2.33181789],\n",
       "       [ 1.28012855,  0.83945042,  1.18045275],\n",
       "       [-1.78360327,  2.8649541 ,  0.58264254],\n",
       "       [ 3.31748109,  2.49571466, -0.19088768],\n",
       "       [ 2.9989395 , -1.44253674, -2.23034235],\n",
       "       [ 4.57565099,  1.70578419, -1.61757549],\n",
       "       [ 1.85991583, -1.40502782,  1.62416822],\n",
       "       [-2.63477383,  2.75311269, -1.51034665],\n",
       "       [ 2.38357174,  1.2233564 ,  0.07392234],\n",
       "       [ 4.15220033, -1.7731784 , -1.65603754],\n",
       "       [ 4.82981864,  0.51607948, -0.9165907 ],\n",
       "       [ 2.20067725, -1.74535852,  2.98457688],\n",
       "       [-1.12778487,  2.17284605,  0.72831466],\n",
       "       [ 3.91704481,  2.10591253,  1.35218135],\n",
       "       [ 0.21634177,  1.95584733,  2.86665189],\n",
       "       [-0.19839431,  2.58654765, -2.20814943],\n",
       "       [-2.26947088,  0.2831411 ,  1.23334076],\n",
       "       [ 4.52251119,  0.99274138,  0.05714827],\n",
       "       [ 3.7876777 , -1.82166426,  2.62931231],\n",
       "       [ 2.09346326, -1.45125117,  0.73162005],\n",
       "       [-1.30500023, -0.94523079,  0.08238984],\n",
       "       [-0.61358677,  2.94703433, -0.5736028 ],\n",
       "       [ 2.26494665,  2.48240836, -2.83235974],\n",
       "       [-1.52040309, -1.21105891,  1.0369766 ],\n",
       "       [-0.06284683,  0.45733106, -1.1989928 ],\n",
       "       [ 3.33927858, -1.62341069, -0.89135119]])"
      ]
     },
     "execution_count": 16,
     "metadata": {},
     "output_type": "execute_result"
    }
   ],
   "source": [
    "p0"
   ]
  },
  {
   "cell_type": "code",
   "execution_count": 17,
   "metadata": {},
   "outputs": [
    {
     "name": "stderr",
     "output_type": "stream",
     "text": [
      "  0%|          | 0/500 [00:00<?, ?it/s]C:\\Users\\andre\\AppData\\Local\\Temp\\ipykernel_1544\\373903543.py:40: IntegrationWarning: The integral is probably divergent, or slowly convergent.\n",
      "  integral, _ = integrate.quad(integrand, 0, b, args = (10**rho0, 10**rs, gamma))\n",
      "d:\\Users\\andre\\anaconda3\\envs\\myenv\\Lib\\site-packages\\emcee\\moves\\red_blue.py:99: RuntimeWarning: invalid value encountered in scalar subtract\n",
      "  lnpdiff = f + nlp - state.log_prob[j]\n",
      "  1%|          | 3/500 [00:03<08:36,  1.04s/it]C:\\Users\\andre\\AppData\\Local\\Temp\\ipykernel_1544\\373903543.py:40: IntegrationWarning: The algorithm does not converge.  Roundoff error is detected\n",
      "  in the extrapolation table.  It is assumed that the requested tolerance\n",
      "  cannot be achieved, and that the returned result (if full_output = 1) is \n",
      "  the best which can be obtained.\n",
      "  integral, _ = integrate.quad(integrand, 0, b, args = (10**rho0, 10**rs, gamma))\n",
      "  7%|▋         | 33/500 [00:35<08:26,  1.08s/it]C:\\Users\\andre\\AppData\\Local\\Temp\\ipykernel_1544\\373903543.py:40: IntegrationWarning: The occurrence of roundoff error is detected, which prevents \n",
      "  the requested tolerance from being achieved.  The error may be \n",
      "  underestimated.\n",
      "  integral, _ = integrate.quad(integrand, 0, b, args = (10**rho0, 10**rs, gamma))\n",
      "100%|██████████| 500/500 [09:10<00:00,  1.10s/it]\n"
     ]
    },
    {
     "data": {
      "text/plain": [
       "State([[-0.58514413 -1.80627026 -1.63939476]\n",
       " [ 0.16034372  1.36280463 -2.9962559 ]\n",
       " [-2.55269144  1.266652   -2.51876003]\n",
       " [ 0.58374498 -1.83847966  0.11332528]\n",
       " [ 1.7281798  -1.95315256 -0.05983203]\n",
       " [-2.11338062 -1.47358483  2.74619954]\n",
       " [ 3.46296575 -1.75343129 -0.99840234]\n",
       " [ 3.53041957  0.84650543  2.62088707]\n",
       " [ 1.01023128  1.62675774 -1.73394547]\n",
       " [ 4.82774013 -1.09088616 -2.7865604 ]\n",
       " [-1.51608653 -0.6588348  -1.28918009]\n",
       " [ 3.13495868 -0.84185493 -1.65192215]\n",
       " [ 2.59240284  2.10969224 -0.15340834]\n",
       " [ 2.23688993  1.5935335  -1.31946821]\n",
       " [ 4.71938035 -1.76220761 -2.33855682]\n",
       " [ 1.37899892 -1.98250598  2.75604491]\n",
       " [ 3.96000921 -1.68171861 -0.36188404]\n",
       " [-1.55816257  0.15657252 -0.21909084]\n",
       " [ 2.18184624  0.87063547 -0.17606794]\n",
       " [ 0.18688477  0.75151597 -0.86777523]\n",
       " [-0.53624981  2.12602805 -1.30992494]\n",
       " [-2.87226995  1.71915349  0.64333674]\n",
       " [-0.84103601 -0.59902314  1.16343439]\n",
       " [ 0.53182431 -1.78233607  0.02101892]\n",
       " [-0.76155809 -1.13147589 -2.33181789]\n",
       " [ 1.28012855  0.83945042  1.18045275]\n",
       " [-1.78360327  2.8649541   0.58264254]\n",
       " [ 3.31748109  2.49571466 -0.19088768]\n",
       " [ 2.9989395  -1.44253674 -2.23034235]\n",
       " [ 4.57565099  1.70578419 -1.61757549]\n",
       " [ 1.85991583 -1.40502782  1.62416822]\n",
       " [-2.63477383  2.75311269 -1.51034665]\n",
       " [ 2.38357174  1.2233564   0.07392234]\n",
       " [ 4.15220033 -1.7731784  -1.65603754]\n",
       " [ 4.82981864  0.51607948 -0.9165907 ]\n",
       " [ 2.20067725 -1.74535852  2.98457688]\n",
       " [-1.12778487  2.17284605  0.72831466]\n",
       " [ 3.91704481  2.10591253  1.35218135]\n",
       " [ 0.21634177  1.95584733  2.86665189]\n",
       " [-0.19839431  2.58654765 -2.20814943]\n",
       " [-2.26947088  0.2831411   1.23334076]\n",
       " [ 4.52251119  0.99274138  0.05714827]\n",
       " [ 3.7876777  -1.82166426  2.62931231]\n",
       " [ 2.09346326 -1.45125117  0.73162005]\n",
       " [-1.30500023 -0.94523079  0.08238984]\n",
       " [-0.61358677  2.94703433 -0.5736028 ]\n",
       " [ 2.26494665  2.48240836 -2.83235974]\n",
       " [-1.52040309 -1.21105891  1.0369766 ]\n",
       " [-0.06284683  0.45733106 -1.1989928 ]\n",
       " [ 3.33927858 -1.62341069 -0.89135119]], log_prob=[-inf -inf -inf -inf -inf -inf -inf -inf -inf -inf -inf -inf -inf -inf\n",
       " -inf -inf -inf -inf -inf -inf -inf -inf -inf -inf -inf -inf -inf -inf\n",
       " -inf -inf -inf -inf -inf -inf -inf -inf -inf -inf -inf -inf -inf -inf\n",
       " -inf -inf -inf -inf -inf -inf -inf -inf], blobs=None, random_state=('MT19937', array([4093851288, 1039197841, 3609015348, 1936767883, 1936885651,\n",
       "       3769017267, 1458632877, 2078478665, 1040376368, 1070680260,\n",
       "       2842123153, 1757225697, 3695262815,  905815691, 4147971374,\n",
       "       3304400381, 3173122483, 3786142990,  799927828, 2218376016,\n",
       "        562577414, 2555622148,  796604409, 2992172267, 3679501715,\n",
       "        494509533, 3113274455, 3489334484,   74195513, 2536669370,\n",
       "       2081967215,  247921151, 3652476742, 3148651843,  907210145,\n",
       "       2883802337, 1223318658, 1740753797, 2675884624, 2089433813,\n",
       "       4158590939,  740655364,  724466206,  218093511, 1261258389,\n",
       "       2943867868, 3494101776, 1014111614, 3090540909, 3388446755,\n",
       "       1117530824,  935420887, 2485731699, 2000034154,  866193630,\n",
       "       2533450519, 2648081659,  166831953,  815555041, 3825368770,\n",
       "       3326583361, 1153149897,  606991167,  925339313,  813642454,\n",
       "       1582410770,  798021390, 3015529029, 3109607615, 3301786844,\n",
       "       3183769646, 2549078992, 1219473411, 1225500347, 1170765356,\n",
       "       1037728316, 3120399869, 3592762425, 1275277480,  442389740,\n",
       "        957748315,  509610657, 3441340976, 1049980477, 1895981652,\n",
       "       1429517022, 4100774228, 2265500470,  186502839, 2366207023,\n",
       "       4188915514, 3727630246,  934137669, 1590203603,  795209347,\n",
       "        724813378, 2809498694, 2603923002, 1525103561, 2534119920,\n",
       "       3970295293, 3357029449,  183333111,  181789617, 1682412978,\n",
       "       4012255443,  525850482, 2261996239, 3690162227,  868775063,\n",
       "       2079122012, 2418320369, 1886390522, 2147953545, 4147873977,\n",
       "       1928982215,  605874613, 2942981677, 2942000716,  340436939,\n",
       "       3973017617, 3150133364, 2404684246, 2980735313, 2729649700,\n",
       "       4018450155,  829117720,  211858435,  923106591, 3310686794,\n",
       "       4056530348,  235746230, 2658622732, 3651913679, 3498450070,\n",
       "       3811989876,  735718917, 3428815908, 3267105595,   26009209,\n",
       "       3594808578, 3200650490, 2088050700, 3346178055, 1420744269,\n",
       "       4068846992, 3279294277,  388147120, 3573866425, 1834071421,\n",
       "        965011495, 2922748035, 4207663617, 3687764934, 4121583655,\n",
       "       3098777032, 4224338426, 2926678071, 3522710191, 3233301255,\n",
       "       2877566804, 1236403926,  687656165, 2651230058, 2800479989,\n",
       "       3661221393, 3158600453, 1724676763, 2932470931, 2278373436,\n",
       "       3992602553, 4232590816, 2034375465, 3768324301, 3058890608,\n",
       "       1849738197, 2014913418, 3102589450, 1412328012, 2852789271,\n",
       "       2040106445, 2537815809, 4013660261, 1328610698, 3281147404,\n",
       "        698463066, 3414484842, 3385636092,  895061934, 3007318045,\n",
       "        468823461, 3096535651, 1633554354, 4014800325, 2673096221,\n",
       "        740250245, 3077685047,  805431327, 2953122470, 3294030292,\n",
       "       2026504527, 2794916134,  407419475, 3606395233,  961585696,\n",
       "       2596654109, 4272348754, 3623950101, 1041715104, 1898918438,\n",
       "       4219743837, 1541888194,  975396834, 1582091940,  659769639,\n",
       "        418114718, 3963114142, 1730766425, 1926419463,  109775893,\n",
       "       3959286379,  688838865, 3893585273, 2854127380, 1764644991,\n",
       "       2579557114,  642958842, 3878486211, 3242563746, 3414489925,\n",
       "       2602517950, 1920844010,  220785105,  942588001,  437043346,\n",
       "           978609, 1719057869,  906863122,  932605353, 3476850977,\n",
       "       3194895533, 3599077802, 3414993896, 4021331119, 2909194642,\n",
       "       4099095857, 1920167667,  612059200, 3584214270,  358609453,\n",
       "       3727155479,  638116530, 2048072311, 1965176435, 3095081236,\n",
       "       1753630234, 4240456467, 1956527255, 2387282689, 3513180486,\n",
       "        799476646, 2409979602, 1378073336, 3046327497, 3455021516,\n",
       "        447048350, 2961250458, 3742497575, 2103507845, 3989622244,\n",
       "       1071896271, 3657698671, 2101230859, 2705544291, 4283035405,\n",
       "       1083219027, 3042879565, 1369950513,   77890093, 2619132481,\n",
       "       2831879125, 2965608750, 2648907064, 2433560398, 2847957466,\n",
       "       3181651146, 1151143249, 1972273450, 3939384955, 3448627208,\n",
       "       1092610133,  713777075, 2683194948, 2628164596,  140669631,\n",
       "        453133091, 3106173410,  762009866,  380637666, 2946832512,\n",
       "       3528295608, 2593457270, 1785281728, 4265107557,  779686607,\n",
       "       1701797744, 1443999160, 2306339251, 2799546663,  124473084,\n",
       "       1930364412, 1230234464, 2245025298, 2594183587,  778565514,\n",
       "       4133811953, 3616220825, 2117625864, 2868851941, 2719983634,\n",
       "       2581684124, 2952636925, 1378052093, 2610069772, 3796739611,\n",
       "       3904560083, 4236852289, 3241311221,  825197274,  309865126,\n",
       "       3197576106, 2124017871, 2693583524, 3336947290, 1193932460,\n",
       "        782889401, 3304713809, 1376093462, 3109785351, 1492983418,\n",
       "       3460032954,  921806318,  450224965,  603319808, 3952727837,\n",
       "       2263679577, 3268935613, 2864924640,  898995882,  192698089,\n",
       "       2699402550,  620424471, 2537542280, 3957611779,  883934892,\n",
       "       3857077448, 1453663491,  389675955,  505889789, 2055249412,\n",
       "       3906088883, 1043384240, 3538779703, 1695363649, 3404243103,\n",
       "       4275226422, 3600720372, 2450832783,  977724228, 1581089811,\n",
       "       1642522135, 3990235769, 1196558536,  539778635, 2363921320,\n",
       "        651858515, 1192842317, 2722671530, 1876032737, 3014107911,\n",
       "        704504039, 3550599281, 1995308633, 2038487652, 1186559478,\n",
       "        996372105, 3076605254,  622224496, 3647805329,  226944493,\n",
       "       3980630086, 3624155669, 1158160619, 4133736247,  783850389,\n",
       "       2555442892, 1745065595, 1795661952, 3312956372, 3377732086,\n",
       "       3938888591,   77993906, 3259139962, 2285646901, 1411054072,\n",
       "       2230813524, 4014626353, 2280606002, 3903663707, 4023762697,\n",
       "       3360476625,  801178332, 4138762103,  629175677,  610406265,\n",
       "       3360333513, 2916045532, 3876876765, 1693418006,  949775251,\n",
       "        873958994, 2280026312, 2497213744, 1733987979, 1032364519,\n",
       "        414956066, 2040799103, 1397940122, 3026607985, 3325339423,\n",
       "        429643129, 3849109604,  344267004, 2695746815, 2082430126,\n",
       "       2951597534, 2080002748,  582723728, 2531666053, 1052946196,\n",
       "         60367577, 4150254463, 3682587545, 1295666952, 2607709119,\n",
       "        136342615, 1304199802, 1564598996, 2358904861, 1537305596,\n",
       "       3499932638, 3434291825, 3980258175, 1167225651, 1360895395,\n",
       "        440830765, 4127720325, 2335972116, 3823708942, 1054390404,\n",
       "       1032961571,  582588264, 3205502849, 1381741581, 1401705887,\n",
       "        308376529,  135824146, 2154553541,  624367556, 1598249265,\n",
       "       3450560968,  627820702, 3563149272,  124230754, 1775071826,\n",
       "       2421664506, 1624759121,  164803815, 2367660360,  814856692,\n",
       "       4093915222, 2785573224, 2170740587,  634133898, 4000538638,\n",
       "       4032642622, 2437723873, 3598743186, 3829776109, 3048060263,\n",
       "       2603899083, 3353222586, 1669160197,  919708860,  285721940,\n",
       "       2824148650, 1728219498,  578633627,   89584509,  170851568,\n",
       "       4211080935, 1826998150,  674558966, 1109306630, 1203914903,\n",
       "       1185974913, 1958895990, 3959972844,  606949594,  483475680,\n",
       "       1166195917, 2813620486, 1518185133,  149207392, 2271124172,\n",
       "        650047703, 3231099932, 2093750964,   15991767,  202502151,\n",
       "       1747244424,  896646432, 3654072426, 2975359962,  515605203,\n",
       "       4216550257, 3055092778, 2264029046, 3215045379,  120137278,\n",
       "       1124767029,  409180613, 3118504932,  149171859, 2163439528,\n",
       "        730453725, 1696527472, 1588242255, 3711652561,  215803958,\n",
       "       3474464746, 3639822142, 3874295654,  103292931,  771643947,\n",
       "       1775140909, 3507680476, 3413210076, 4133368698, 3501994655,\n",
       "       2015488768,  398899611, 3571718547, 1280089918, 3856332006,\n",
       "       3517771338, 1720218002, 2617185105, 1330364065, 3194409109,\n",
       "       3734605105,  994968707, 2322040245, 2842665920, 1660172799,\n",
       "       4181987814, 3993703044,   20028762, 3179572489, 1266507567,\n",
       "       2937204072, 2965986823, 4026605848, 2317696325, 3937132328,\n",
       "       3988628320, 3036411683, 1636600886, 3780614171, 3881826824,\n",
       "       2549917617,  692108266,  780475012, 1893295321,  487731984,\n",
       "       3115623759, 2763805122,  298318397, 1899876445, 2448638320,\n",
       "       2771618502, 3110534341, 1522182139, 1663064984, 2196270104,\n",
       "       3496962174, 1835552843,  998825024, 4129968717, 1805948160,\n",
       "        839437287,  836108481,  136932275, 4261653498, 3191275621,\n",
       "       2591145059, 3486505240, 1412374588, 1036982672, 2406042903,\n",
       "       1092979456,  701901580, 3310631972, 3406467457, 1752603949,\n",
       "       1973486749, 3024571379, 2290304690, 3191614689, 3129484971,\n",
       "       2600864873, 4044857054, 1487352454,  302124343], dtype=uint32), 510, 0, 0.0))"
      ]
     },
     "execution_count": 17,
     "metadata": {},
     "output_type": "execute_result"
    }
   ],
   "source": [
    "sampler = emcee.EnsembleSampler(nwalker, ndim, log_likelyhood)\n",
    "sampler.run_mcmc(params, niter, progress = True)"
   ]
  },
  {
   "cell_type": "code",
   "execution_count": 18,
   "metadata": {},
   "outputs": [
    {
     "data": {
      "text/plain": [
       "array([[-0.58514413, -1.80627026, -1.63939476],\n",
       "       [ 0.16034372,  1.36280463, -2.9962559 ],\n",
       "       [-2.55269144,  1.266652  , -2.51876003],\n",
       "       ...,\n",
       "       [-1.52040309, -1.21105891,  1.0369766 ],\n",
       "       [-0.06284683,  0.45733106, -1.1989928 ],\n",
       "       [ 3.33927858, -1.62341069, -0.89135119]])"
      ]
     },
     "execution_count": 18,
     "metadata": {},
     "output_type": "execute_result"
    }
   ],
   "source": [
    "samples=sampler.get_chain(discard=10,thin=2,flat=True)\n",
    "samples\n",
    "# 2 // -0.8 // 0.2"
   ]
  },
  {
   "cell_type": "code",
   "execution_count": 22,
   "metadata": {},
   "outputs": [
    {
     "data": {
      "text/plain": [
       "(12250, 3)"
      ]
     },
     "execution_count": 22,
     "metadata": {},
     "output_type": "execute_result"
    }
   ],
   "source": [
    "samples.shape"
   ]
  },
  {
   "cell_type": "code",
   "execution_count": 20,
   "metadata": {},
   "outputs": [
    {
     "ename": "ValueError",
     "evalue": "too many values to unpack (expected 2)",
     "output_type": "error",
     "traceback": [
      "\u001b[1;31m---------------------------------------------------------------------------\u001b[0m",
      "\u001b[1;31mValueError\u001b[0m                                Traceback (most recent call last)",
      "Cell \u001b[1;32mIn[20], line 3\u001b[0m\n\u001b[0;32m      1\u001b[0m samples1 \u001b[38;5;241m=\u001b[39m sampler\u001b[38;5;241m.\u001b[39mchain\u001b[38;5;241m.\u001b[39mreshape((\u001b[38;5;241m-\u001b[39m\u001b[38;5;241m1\u001b[39m, ndim))\n\u001b[1;32m----> 3\u001b[0m om_mc, H0_mc \u001b[38;5;241m=\u001b[39m \u001b[38;5;28mmap\u001b[39m(\u001b[38;5;28;01mlambda\u001b[39;00m v: (v[\u001b[38;5;241m1\u001b[39m], v[\u001b[38;5;241m2\u001b[39m]\u001b[38;5;241m-\u001b[39mv[\u001b[38;5;241m1\u001b[39m], v[\u001b[38;5;241m1\u001b[39m]\u001b[38;5;241m-\u001b[39mv[\u001b[38;5;241m0\u001b[39m]), \u001b[38;5;28mzip\u001b[39m(\u001b[38;5;241m*\u001b[39mnp\u001b[38;5;241m.\u001b[39mpercentile(samples1, [\u001b[38;5;241m16\u001b[39m, \u001b[38;5;241m50\u001b[39m, \u001b[38;5;241m84\u001b[39m], axis\u001b[38;5;241m=\u001b[39m\u001b[38;5;241m0\u001b[39m)))\n\u001b[0;32m      5\u001b[0m \u001b[38;5;66;03m#Plotting the traces\u001b[39;00m\n\u001b[0;32m      6\u001b[0m thin, discard \u001b[38;5;241m=\u001b[39m \u001b[38;5;241m2\u001b[39m, \u001b[38;5;241m10\u001b[39m\n",
      "\u001b[1;31mValueError\u001b[0m: too many values to unpack (expected 2)"
     ]
    }
   ],
   "source": [
    "samples1 = sampler.chain.reshape((-1, ndim))\n",
    "\n",
    "om_mc, H0_mc = map(lambda v: (v[1], v[2]-v[1], v[1]-v[0]), zip(*np.percentile(samples1, [16, 50, 84], axis=0)))\n",
    "\n",
    "#Plotting the traces\n",
    "thin, discard = 2, 10\n",
    "fig, axes = plt.subplots(ndim, figsize=(18,9), sharex=True)\n",
    "\n",
    "#plt.figure(figsize=(18,9))\n",
    "\n",
    "for i in range(ndim):\n",
    "    ax = axes[i]\n",
    "    #plt.subplot(2,ndim//2,i+1) #this is for making two rows.\n",
    "    ax.plot(sampler.get_chain()[thin:,discard:,i], color='black',alpha=0.1, lw=0.15)\n",
    "    ax.set_xlim(0, len(sampler.get_chain()))\n",
    "    ax.set_ylabel(params[i])\n",
    "\n",
    "axes[-1].set_xlabel(\"step number\");\n",
    "plt.tight_layout ()\n",
    "\n",
    "fig=corner.corner(samples,labels=params,show_titles=True,color='green',Truths=[om_mc,H0_mc],smooth=2.,Levels=[0.68,0.95],plot_density=True,plot_datapoints=False)\n",
    "\n",
    "fig.savefig(\"corner_plot1.pdf\")"
   ]
  },
  {
   "cell_type": "code",
   "execution_count": null,
   "metadata": {},
   "outputs": [],
   "source": []
  },
  {
   "cell_type": "code",
   "execution_count": null,
   "metadata": {},
   "outputs": [],
   "source": []
  },
  {
   "cell_type": "code",
   "execution_count": null,
   "metadata": {},
   "outputs": [],
   "source": []
  },
  {
   "cell_type": "code",
   "execution_count": null,
   "metadata": {},
   "outputs": [],
   "source": []
  }
 ],
 "metadata": {
  "kernelspec": {
   "display_name": "base",
   "language": "python",
   "name": "python3"
  },
  "language_info": {
   "codemirror_mode": {
    "name": "ipython",
    "version": 3
   },
   "file_extension": ".py",
   "mimetype": "text/x-python",
   "name": "python",
   "nbconvert_exporter": "python",
   "pygments_lexer": "ipython3",
   "version": "3.11.5"
  }
 },
 "nbformat": 4,
 "nbformat_minor": 2
}
